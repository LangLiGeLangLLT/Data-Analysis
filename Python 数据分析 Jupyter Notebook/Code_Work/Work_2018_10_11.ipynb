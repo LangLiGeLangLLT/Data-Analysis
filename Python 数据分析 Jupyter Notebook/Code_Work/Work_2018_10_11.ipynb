{
 "cells": [
  {
   "cell_type": "markdown",
   "metadata": {},
   "source": [
    "# 实训 1 创建数组并进行运算"
   ]
  },
  {
   "cell_type": "markdown",
   "metadata": {},
   "source": [
    "（1）创建一个数值范围为 0~1，间隔为 0.01 的数组。"
   ]
  },
  {
   "cell_type": "code",
   "execution_count": 3,
   "metadata": {},
   "outputs": [
    {
     "name": "stdout",
     "output_type": "stream",
     "text": [
      "创建的数组为：\n",
      " [0.   0.01 0.02 0.03 0.04 0.05 0.06 0.07 0.08 0.09 0.1  0.11 0.12 0.13\n",
      " 0.14 0.15 0.16 0.17 0.18 0.19 0.2  0.21 0.22 0.23 0.24 0.25 0.26 0.27\n",
      " 0.28 0.29 0.3  0.31 0.32 0.33 0.34 0.35 0.36 0.37 0.38 0.39 0.4  0.41\n",
      " 0.42 0.43 0.44 0.45 0.46 0.47 0.48 0.49 0.5  0.51 0.52 0.53 0.54 0.55\n",
      " 0.56 0.57 0.58 0.59 0.6  0.61 0.62 0.63 0.64 0.65 0.66 0.67 0.68 0.69\n",
      " 0.7  0.71 0.72 0.73 0.74 0.75 0.76 0.77 0.78 0.79 0.8  0.81 0.82 0.83\n",
      " 0.84 0.85 0.86 0.87 0.88 0.89 0.9  0.91 0.92 0.93 0.94 0.95 0.96 0.97\n",
      " 0.98 0.99]\n"
     ]
    }
   ],
   "source": [
    "import numpy as np\n",
    "\n",
    "arr=np.arange(0,1,0.01)\n",
    "print(\"创建的数组为：\\n\",arr)"
   ]
  },
  {
   "cell_type": "markdown",
   "metadata": {},
   "source": [
    "（2）创建 100 个服从正态分布的随机数。"
   ]
  },
  {
   "cell_type": "code",
   "execution_count": 5,
   "metadata": {},
   "outputs": [
    {
     "name": "stdout",
     "output_type": "stream",
     "text": [
      "创建的数组为：\n",
      " [ 1.71842698  1.32027649 -0.70640426  1.20610294  0.49662629  0.31987167\n",
      "  1.04328856 -1.43909754 -0.6280162   0.97280464 -1.31908541  0.09766738\n",
      "  1.12615525 -1.24590887  0.00581177  0.6820867  -0.6391838  -0.40043493\n",
      " -0.13651491 -0.05374659 -0.50182379  0.57994255 -0.75339394 -0.9572238\n",
      "  1.35452048 -0.66128015 -0.98691793  0.28402019 -0.47543706  0.58703064\n",
      "  1.08429721 -1.9042299   0.40511651  1.21404958  0.33464043 -0.98264067\n",
      " -0.24759458 -0.31758656  2.23334116  0.50165015 -0.35732512 -0.32638536\n",
      " -1.64350368  1.17836674 -0.36677006  1.76570396 -0.91555478  0.85863122\n",
      "  1.19315321 -0.93261247  1.55181789 -1.12206926 -0.04268577  0.88434081\n",
      " -0.0280449  -0.07017798  0.2157117  -0.69378958  0.85827871 -1.21874617\n",
      "  1.41074148  0.90063065 -1.27058901  0.9144767  -1.47998115 -1.24537332\n",
      " -1.72661409  0.64375187 -0.90789228  0.7065358   0.56926929  0.02895123\n",
      "  2.10518173  1.65002128 -1.37160797 -0.44470078  0.96797411 -0.43231962\n",
      " -1.51009848  1.39200457 -1.60525998  0.07479342  0.95757858 -0.22127021\n",
      "  0.34597258 -0.25144246 -1.11000371  0.88359573 -0.87989596  0.45762161\n",
      " -0.27585785  1.14443471 -0.61762808 -0.23280976 -1.07968567 -0.32492152\n",
      " -0.80216538 -0.12653545 -1.29598546 -0.31889172]\n"
     ]
    }
   ],
   "source": [
    "import numpy as np\n",
    "\n",
    "arr=np.random.randn(100)\n",
    "print(\"创建的数组为：\\n\",arr)"
   ]
  },
  {
   "cell_type": "markdown",
   "metadata": {},
   "source": [
    "（3）对创建的两个数组进行四则运算。"
   ]
  },
  {
   "cell_type": "code",
   "execution_count": 7,
   "metadata": {},
   "outputs": [
    {
     "name": "stdout",
     "output_type": "stream",
     "text": [
      "两个数组相加为： [ 7  9 11 13]\n",
      "两个数组相减为： [-5 -5 -5 -5]\n",
      "两个数组相乘为： [ 6 14 24 36]\n",
      "两个数组相除为： [0.16666667 0.28571429 0.375      0.44444444]\n",
      "两个数组幂运算为： [     1    128   6561 262144]\n"
     ]
    }
   ],
   "source": [
    "import numpy as np\n",
    "\n",
    "arr1=np.array([1,2,3,4])\n",
    "arr2=np.array([6,7,8,9])\n",
    "print(\"两个数组相加为：\",arr1+arr2)\n",
    "print(\"两个数组相减为：\",arr1-arr2)\n",
    "print(\"两个数组相乘为：\",arr1*arr2)\n",
    "print(\"两个数组相除为：\",arr1/arr2)\n",
    "print(\"两个数组幂运算为：\",arr1**arr2)"
   ]
  },
  {
   "cell_type": "markdown",
   "metadata": {},
   "source": [
    "（4）对创建的随机数组进行简单的统计分析。"
   ]
  },
  {
   "cell_type": "code",
   "execution_count": 15,
   "metadata": {},
   "outputs": [
    {
     "name": "stdout",
     "output_type": "stream",
     "text": [
      "创建的随机数组为：\n",
      " [[3 7 2 0 7]\n",
      " [9 8 0 0 0]\n",
      " [7 2 4 2 0]\n",
      " [5 0 0 0 4]]\n"
     ]
    }
   ],
   "source": [
    "import numpy as np\n",
    "\n",
    "arr=np.random.randint(10,size=20).reshape(4,5)\n",
    "print(\"创建的随机数组为：\\n\",arr)"
   ]
  },
  {
   "cell_type": "code",
   "execution_count": 16,
   "metadata": {},
   "outputs": [
    {
     "name": "stdout",
     "output_type": "stream",
     "text": [
      "数组的和为： 60\n",
      "数组纵轴的和为： [24 17  6  2 11]\n",
      "数组横轴的和为： [19 17 15  9]\n",
      "数组的均值为： 3.0\n",
      "数组纵轴的均值为： [6.   4.25 1.5  0.5  2.75]\n",
      "数组横轴的均值为： [3.8 3.4 3.  1.8]\n",
      "数组的标准差为： 3.082207001484488\n",
      "数组的方差为： 9.5\n",
      "数组的最小值为： 0\n",
      "数组的最大值为： 9\n",
      "数组的最小元素索引为： 3\n",
      "数组的最大元素索引为： 5\n"
     ]
    }
   ],
   "source": [
    "print(\"数组的和为：\",np.sum(arr))\n",
    "print(\"数组纵轴的和为：\",arr.sum(axis=0))\n",
    "print(\"数组横轴的和为：\",arr.sum(axis=1))\n",
    "print(\"数组的均值为：\",np.mean(arr))\n",
    "print(\"数组纵轴的均值为：\",arr.mean(axis=0))\n",
    "print(\"数组横轴的均值为：\",arr.mean(axis=1))\n",
    "print(\"数组的标准差为：\",np.std(arr))\n",
    "print(\"数组的方差为：\",np.var(arr))\n",
    "print(\"数组的最小值为：\",np.min(arr))\n",
    "print(\"数组的最大值为：\",np.max(arr))\n",
    "print(\"数组的最小元素索引为：\",np.argmin(arr))\n",
    "print(\"数组的最大元素索引为：\",np.argmax(arr))"
   ]
  },
  {
   "cell_type": "markdown",
   "metadata": {},
   "source": [
    "# 实训 2 创建一个国际象棋的棋盘"
   ]
  },
  {
   "cell_type": "markdown",
   "metadata": {},
   "source": [
    "（1）创建一个 8*8 矩阵。"
   ]
  },
  {
   "cell_type": "code",
   "execution_count": 2,
   "metadata": {},
   "outputs": [
    {
     "name": "stdout",
     "output_type": "stream",
     "text": [
      "[[0. 0. 0. 0. 0. 0. 0. 0.]\n",
      " [0. 0. 0. 0. 0. 0. 0. 0.]\n",
      " [0. 0. 0. 0. 0. 0. 0. 0.]\n",
      " [0. 0. 0. 0. 0. 0. 0. 0.]\n",
      " [0. 0. 0. 0. 0. 0. 0. 0.]\n",
      " [0. 0. 0. 0. 0. 0. 0. 0.]\n",
      " [0. 0. 0. 0. 0. 0. 0. 0.]\n",
      " [0. 0. 0. 0. 0. 0. 0. 0.]]\n"
     ]
    }
   ],
   "source": [
    "import numpy as np\n",
    "\n",
    "matr=np.matrix(np.zeros([8,8]))\n",
    "print(matr)"
   ]
  },
  {
   "cell_type": "markdown",
   "metadata": {},
   "source": [
    "（2）把 1、3、5、7 行和 2、4、6 列的元素设置为 1 。"
   ]
  },
  {
   "cell_type": "code",
   "execution_count": 5,
   "metadata": {},
   "outputs": [
    {
     "name": "stdout",
     "output_type": "stream",
     "text": [
      "[[1. 0. 1. 0. 1. 0. 1. 0.]\n",
      " [0. 1. 0. 1. 0. 1. 0. 1.]\n",
      " [1. 0. 1. 0. 1. 0. 1. 0.]\n",
      " [0. 1. 0. 1. 0. 1. 0. 1.]\n",
      " [1. 0. 1. 0. 1. 0. 1. 0.]\n",
      " [0. 1. 0. 1. 0. 1. 0. 1.]\n",
      " [1. 0. 1. 0. 1. 0. 1. 0.]\n",
      " [0. 1. 0. 1. 0. 1. 0. 1.]]\n"
     ]
    }
   ],
   "source": [
    "import numpy as np\n",
    "\n",
    "arr=np.zeros([8,8])\n",
    "i=0\n",
    "while(i<64):\n",
    "    x=int(i/8)\n",
    "    y=int(i%8)\n",
    "    if(x%2==0 and y%2==0):\n",
    "        arr[x][y]=1\n",
    "    elif(x%2==1 and y%2==1):\n",
    "        arr[x][y]=1\n",
    "    i+=1\n",
    "print(arr)"
   ]
  },
  {
   "cell_type": "code",
   "execution_count": 8,
   "metadata": {},
   "outputs": [
    {
     "name": "stdout",
     "output_type": "stream",
     "text": [
      "█  █  █  █  \n",
      "  █  █  █  █\n",
      "█  █  █  █  \n",
      "  █  █  █  █\n",
      "█  █  █  █  \n",
      "  █  █  █  █\n",
      "█  █  █  █  \n",
      "  █  █  █  █\n"
     ]
    }
   ],
   "source": [
    "import numpy as np\n",
    "\n",
    "i=0\n",
    "k=1\n",
    "while(i<64):\n",
    "    x=int(i/8)\n",
    "    y=int(i%8)\n",
    "    if(x%2==0 and y%2==0):\n",
    "        print(\"█\",end=\"\")\n",
    "    elif(x%2==1 and y%2==1):\n",
    "        print(\"█\",end=\"\")\n",
    "    else:\n",
    "        print(\"  \",end=\"\")\n",
    "    if(k%8==0):\n",
    "        print()\n",
    "    i+=1\n",
    "    k+=1"
   ]
  },
  {
   "cell_type": "markdown",
   "metadata": {},
   "source": [
    "# 操作题"
   ]
  },
  {
   "cell_type": "markdown",
   "metadata": {},
   "source": [
    "（1）生成范围在 0~1、服从均匀分布的10行5列的数组。"
   ]
  },
  {
   "cell_type": "code",
   "execution_count": 6,
   "metadata": {},
   "outputs": [
    {
     "name": "stdout",
     "output_type": "stream",
     "text": [
      "[[0.48644498 0.03328523 0.93949443 0.99939811 0.68771284]\n",
      " [0.8611568  0.95452521 0.0969368  0.25923859 0.14532695]\n",
      " [0.61419223 0.97010109 0.65510558 0.95635831 0.85225271]\n",
      " [0.51330391 0.58802775 0.12074156 0.35969478 0.31580681]\n",
      " [0.88937404 0.98139199 0.1822213  0.92901737 0.51796351]\n",
      " [0.45135367 0.2274743  0.4222158  0.65743459 0.07887705]\n",
      " [0.81380207 0.34560064 0.53436253 0.35296009 0.67341587]\n",
      " [0.61548631 0.45635276 0.64741915 0.29712575 0.18500222]\n",
      " [0.81360257 0.26119958 0.72069345 0.88097972 0.68017705]\n",
      " [0.80496742 0.18513346 0.19736191 0.98668704 0.51310158]]\n"
     ]
    }
   ],
   "source": [
    "import numpy as np\n",
    "\n",
    "arr=np.random.rand(10,5)\n",
    "print(arr)"
   ]
  },
  {
   "cell_type": "markdown",
   "metadata": {},
   "source": [
    "（2）生成两个 2*2 矩阵，并计算矩阵乘积。"
   ]
  },
  {
   "cell_type": "code",
   "execution_count": 8,
   "metadata": {},
   "outputs": [
    {
     "name": "stdout",
     "output_type": "stream",
     "text": [
      "乘积为：\n",
      " [[22 25]\n",
      " [50 57]]\n"
     ]
    }
   ],
   "source": [
    "import numpy as np\n",
    "\n",
    "matr1=np.matrix([[1,2],[3,4]])\n",
    "matr2=np.matrix([[6,7],[8,9]])\n",
    "print(\"乘积为：\\n\",matr1*matr2)"
   ]
  },
  {
   "cell_type": "markdown",
   "metadata": {},
   "source": [
    "# 读取world_alcohol的文件，统计酒精消费总和以及平均值\n",
    "\n",
    "提示Display Value有些字段是没有值的，要将空值nan进行预处理，可用0替换，\n",
    "\n",
    "数据文件在第二章资料里面，包括iris鸢尾花数据和world_alcohol饮酒数据。"
   ]
  },
  {
   "cell_type": "code",
   "execution_count": 5,
   "metadata": {},
   "outputs": [
    {
     "name": "stdout",
     "output_type": "stream",
     "text": [
      "以二进制方式读取数据为：\n",
      " [[1.986e+03       nan       nan       nan 0.000e+00]\n",
      " [1.986e+03       nan       nan       nan 5.000e-01]\n",
      " [1.985e+03       nan       nan       nan 1.620e+00]\n",
      " ...\n",
      " [1.987e+03       nan       nan       nan 7.500e-01]\n",
      " [1.989e+03       nan       nan       nan 1.500e+00]\n",
      " [1.985e+03       nan       nan       nan 3.100e-01]]\n",
      "判断哪些数据为NULL：\n",
      " [False False False False False False False False False False False False\n",
      " False False False False False False False False False False False False\n",
      "  True False False False False  True False False False False False False\n",
      " False False False False False False False False  True False False False\n",
      " False False False False False False False False False False False False\n",
      " False False False False False False False False False False False False\n",
      " False False False False False False False False False False False  True\n",
      " False False False False False False False False False  True False False\n",
      " False False False False False  True False False False False False False\n",
      " False False False False False False False False False False False False\n",
      " False False False False False False False False False False False False\n",
      " False False False False False False False False False False False False\n",
      " False False False  True  True False False False False False False False\n",
      " False False False False False False False False False False False False\n",
      " False False False False False False False False False False False False\n",
      " False False False False False False False False False False False False\n",
      " False False False False False False False False  True False False False\n",
      " False False False False False False False False False False False False\n",
      " False False  True False False False False False  True False False False\n",
      " False False  True False False False False False False False False  True\n",
      " False False False False False False False False False False False False\n",
      " False False False False False False False False False False False False\n",
      " False False False  True False False False False False False False False\n",
      " False False False False False False False False False False False False\n",
      " False False False False False False False False  True False False False\n",
      " False False False False False False False False False False False False\n",
      " False False False False False False False False False False False False\n",
      " False False False False False  True False False False False False False\n",
      " False False False False False False False False False False False False\n",
      " False False False  True False False False False False False False False\n",
      " False False False False False False False False False  True False False\n",
      " False  True False False False False False False False False False False\n",
      " False False False False False  True False False False False False False\n",
      " False False False False False  True False  True  True False False False\n",
      " False False  True False False False False False  True False  True False\n",
      " False False False False False False False False False False False False\n",
      " False False False False False False False False False False False False\n",
      " False False False False False False False False False False False False\n",
      " False False False False False False False False False False False False\n",
      " False False False False False False False False  True False False False\n",
      " False False False False False False False  True False False False False\n",
      " False False False False False False False False False  True False False\n",
      " False False False  True False False  True False False False False False\n",
      "  True False False False False False False False False False False False\n",
      " False False False False False False False False False False False False\n",
      " False False False False False  True  True False False False False False\n",
      "  True False False False False False False False False False False False\n",
      " False False False False False False False False False False False  True\n",
      " False False False False False  True False False  True False False  True\n",
      " False False  True False False False False False False False False False\n",
      " False False False  True False False False False False False False False\n",
      " False False False False False False False False False False  True False\n",
      " False False False False False False False False False False False False\n",
      " False False False False False False  True False False False False False\n",
      " False False False False False False False False False False False False\n",
      " False False False False False False False  True  True False False False\n",
      " False False False False False False False False False False False False\n",
      " False False False False False False False False False False False False\n",
      " False False False False False False False False False False False False\n",
      " False False False False False False False False False False False False\n",
      " False False False False False False False False False False False False\n",
      " False False False False False False False False False False  True False\n",
      " False False False False False False False False False False False False\n",
      " False False  True False False False  True False False False False False\n",
      " False False False False False False False False False False  True False\n",
      " False False False False False False False False False False False False\n",
      " False False False False  True False False False False False  True False\n",
      " False False False False False False False False False False  True False\n",
      " False False False False False False False False False False False False\n",
      " False False False False False False False False False False False False\n",
      " False  True False False False False False False False False False  True\n",
      "  True False  True False False False False False False False False False\n",
      " False False False False False False False False False False False False\n",
      " False False False False False False False False False False False False\n",
      " False False False False False False False False False False  True False\n",
      " False False False False False False False False False False False False\n",
      " False False False False False False False False False False False False\n",
      " False False False False False  True  True False  True False False  True\n",
      "  True False False False False  True False False False False False False\n",
      " False False False False False False False False  True False False False\n",
      " False False False False False False False False False False False False\n",
      " False  True False False False False False False False  True False False\n",
      "  True False False False False False False False False False False False\n",
      " False]\n",
      "酒精消费总和为： 1137.7800000000002\n",
      "酒精消费平均值为： 1.1412036108324977\n"
     ]
    }
   ],
   "source": [
    "import numpy as np\n",
    "\n",
    "world_alcohol = np.genfromtxt(\"../data/world_alcohol.txt\",delimiter=\",\",skip_header=1)\n",
    "print(\"以二进制方式读取数据为：\\n\",world_alcohol)\n",
    "\n",
    "is_value_empty = np.isnan(world_alcohol[:,4])\n",
    "print(\"判断哪些数据为NULL：\\n\",is_value_empty)\n",
    "\n",
    "world_alcohol[is_value_empty,4] = '0' # 有些字段是没有值的，要将空值nan进行预处理，可用0替换\n",
    "alcohol_consumption = world_alcohol[:,4]\n",
    "alcohol_consumption = alcohol_consumption.astype(float)\n",
    "total_alcohol = alcohol_consumption.sum()\n",
    "average_alcohol = alcohol_consumption.mean()\n",
    "print(\"酒精消费总和为：\",total_alcohol)\n",
    "print(\"酒精消费平均值为：\",average_alcohol)"
   ]
  },
  {
   "cell_type": "code",
   "execution_count": null,
   "metadata": {},
   "outputs": [],
   "source": []
  }
 ],
 "metadata": {
  "kernelspec": {
   "display_name": "Python 3",
   "language": "python",
   "name": "python3"
  },
  "language_info": {
   "codemirror_mode": {
    "name": "ipython",
    "version": 3
   },
   "file_extension": ".py",
   "mimetype": "text/x-python",
   "name": "python",
   "nbconvert_exporter": "python",
   "pygments_lexer": "ipython3",
   "version": "3.6.5"
  }
 },
 "nbformat": 4,
 "nbformat_minor": 2
}
