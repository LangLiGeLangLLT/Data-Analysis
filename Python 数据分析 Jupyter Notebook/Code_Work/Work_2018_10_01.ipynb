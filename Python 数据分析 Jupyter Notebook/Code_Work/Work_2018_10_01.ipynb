{
 "cells": [
  {
   "cell_type": "markdown",
   "metadata": {},
   "source": [
    "# 1.矩阵相乘"
   ]
  },
  {
   "cell_type": "code",
   "execution_count": 7,
   "metadata": {},
   "outputs": [
    {
     "name": "stdout",
     "output_type": "stream",
     "text": [
      "结果为：\n",
      " [[-16 -32]\n",
      " [  8  16]]\n"
     ]
    }
   ],
   "source": [
    "import numpy as np\n",
    "\n",
    "matrix1 = np.matrix([[-2,4],[1,-2]])\n",
    "matrix2 = np.matrix([[2,4],[-3,-6]])\n",
    "print(\"结果为：\\n\",matrix1*matrix2)"
   ]
  },
  {
   "cell_type": "code",
   "execution_count": 13,
   "metadata": {},
   "outputs": [
    {
     "name": "stdout",
     "output_type": "stream",
     "text": [
      "结果为：\n",
      " [[-1 -4  2 11]\n",
      " [ 1  2  0 -1]]\n"
     ]
    }
   ],
   "source": [
    "import numpy as np\n",
    "\n",
    "matrix1=np.matrix([[1,2,3],[1,0,-1]])\n",
    "matrix2=np.matrix([[1,0,-1,2],[-1,1,3,0],[0,-2,-1,3]])\n",
    "print(\"结果为：\\n\",matrix1*matrix2)"
   ]
  },
  {
   "cell_type": "markdown",
   "metadata": {},
   "source": [
    "# 2.解线性方程"
   ]
  },
  {
   "cell_type": "code",
   "execution_count": 14,
   "metadata": {},
   "outputs": [
    {
     "name": "stdout",
     "output_type": "stream",
     "text": [
      "x的解集为：\n",
      " [[1.]\n",
      " [1.]\n",
      " [1.]]\n"
     ]
    }
   ],
   "source": [
    "import numpy as np\n",
    "from numpy.linalg import *\n",
    "\n",
    "m=np.matrix([[1,1,1],[1,2,3],[1,10,100]])\n",
    "y=np.matrix([[3],[6],[111]])\n",
    "print(\"x的解集为：\\n\",solve(m,y))"
   ]
  },
  {
   "cell_type": "markdown",
   "metadata": {},
   "source": [
    "# 3.解应用题"
   ]
  },
  {
   "cell_type": "code",
   "execution_count": 15,
   "metadata": {},
   "outputs": [
    {
     "name": "stdout",
     "output_type": "stream",
     "text": [
      "x的解集为：\n",
      " [[16.]\n",
      " [22.]]\n"
     ]
    }
   ],
   "source": [
    "import numpy as np\n",
    "from numpy.linalg import *\n",
    "\n",
    "m=np.matrix([[3,3.2],[3.5,3.6]])\n",
    "y=np.matrix([[118.4],[135.2]])\n",
    "print(\"x的解集为：\\n\",solve(m,y))"
   ]
  },
  {
   "cell_type": "code",
   "execution_count": null,
   "metadata": {},
   "outputs": [],
   "source": []
  }
 ],
 "metadata": {
  "kernelspec": {
   "display_name": "Python 3",
   "language": "python",
   "name": "python3"
  },
  "language_info": {
   "codemirror_mode": {
    "name": "ipython",
    "version": 3
   },
   "file_extension": ".py",
   "mimetype": "text/x-python",
   "name": "python",
   "nbconvert_exporter": "python",
   "pygments_lexer": "ipython3",
   "version": "3.6.5"
  }
 },
 "nbformat": 4,
 "nbformat_minor": 2
}
