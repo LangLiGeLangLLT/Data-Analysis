{
 "cells": [
  {
   "cell_type": "markdown",
   "metadata": {},
   "source": [
    "# 实训 1 使用 sklearn 处理 wine 和 wine_quality 数据集"
   ]
  },
  {
   "cell_type": "code",
   "execution_count": 1,
   "metadata": {},
   "outputs": [],
   "source": [
    "import pandas as pd\n",
    "from sklearn.model_selection import train_test_split\n",
    "from sklearn.preprocessing import StandardScaler\n",
    "from sklearn.decomposition import PCA\n",
    "\n",
    "# 使用 pandas 库读取 wine 数据集和 wine_quality 数据集\n",
    "\n",
    "wine = pd.read_csv(\"../data/wine.csv\", sep = \",\")\n",
    "wine_quality = pd.read_csv(\"../data/winequality.csv\", sep = \";\")\n",
    "\n",
    "# 将 wine 数据集和 wine_quality 数据集的数据和标签拆分开\n",
    "\n",
    "wine_data = wine.iloc[:,1:].values\n",
    "wine_target = wine.iloc[:,0].values\n",
    "\n",
    "wine_quality_data = wine_quality.iloc[:,:-1].values\n",
    "wine_quality_target = wine_quality.iloc[:,-1].values\n",
    "\n",
    "# 将 wine 数据集和 wine_quality 数据集划分为训练集和测试集\n",
    "\n",
    "wine_data_train, wine_data_test, wine_target_train, wine_target_test = \\\n",
    "    train_test_split(wine_data, wine_target, test_size = 0.2, random_state = 42)\n",
    "\n",
    "wine_quality_data_train, wine_quality_data_test, wine_quality_target_train, wine_quality_target_test = \\\n",
    "    train_test_split(wine_quality_data, wine_quality_target, test_size = 0.2, random_state = 42)\n",
    "\n",
    "# 标准化 wine 数据集和 wine_quality 数据集\n",
    "\n",
    "wine_stdScale = StandardScaler().fit(wine_data_train) # 生成规则\n",
    "wine_trainScaler = wine_stdScale.transform(wine_data_train) # 将规则应用于训练集\n",
    "wine_testScaler = wine_stdScale.transform(wine_data_test) # 将规则应用于测试集\n",
    "\n",
    "wine_quality_stdScale = StandardScaler().fit(wine_quality_data_train) # 生成规则\n",
    "wine_quality_trainScaler = wine_quality_stdScale.transform(wine_quality_data_train) # 将规则应用于训练集\n",
    "wine_quality_testScaler = wine_quality_stdScale.transform(wine_quality_data_test) # 将规则应用于测试集\n",
    "\n",
    "# 对 wine 数据集和 wine_quality 数据集进行 PCA 降维\n",
    "\n",
    "wine_pca = PCA(n_components = 5).fit(wine_trainScaler) # 生成规则\n",
    "wine_trainPca = wine_pca.transform(wine_trainScaler) # 将规则应用于训练集\n",
    "wine_testPca = wine_pca.transform(wine_testScaler) # 将规则应用于测试集\n",
    "\n",
    "wine_quality_pca = PCA(n_components = 5).fit(wine_quality_trainScaler) # 生成规则\n",
    "wine_quality_trainPca = wine_quality_pca.transform(wine_quality_trainScaler) # 将规则应用于训练集\n",
    "wine_quality_testPca = wine_quality_pca.transform(wine_quality_testScaler) # 将规则应用于测试集"
   ]
  },
  {
   "cell_type": "markdown",
   "metadata": {},
   "source": [
    "# 实训 2 构建基于 wine 数据集的 K-Means 聚类模型"
   ]
  },
  {
   "cell_type": "code",
   "execution_count": 4,
   "metadata": {},
   "outputs": [
    {
     "name": "stdout",
     "output_type": "stream",
     "text": [
      "构建的 K-Means 模型为：\n",
      " KMeans(algorithm='auto', copy_x=True, init='k-means++', max_iter=300,\n",
      "    n_clusters=3, n_init=10, n_jobs=1, precompute_distances='auto',\n",
      "    random_state=42, tol=0.0001, verbose=0)\n",
      "wine 数据聚 3 类 FMI 评价分值为：0.583537\n",
      "wine 数据聚 2 类 FMI 最优评价分值为：0.659051\n"
     ]
    },
    {
     "data": {
      "image/png": "[encoded data removed]",
      "text/plain": [
       "<Figure size 720x432 with 1 Axes>"
      ]
     },
     "metadata": {},
     "output_type": "display_data"
    },
    {
     "name": "stdout",
     "output_type": "stream",
     "text": [
      "wine 数据聚 2 类轮廓系数最优评价分值为：0.656854\n",
      "wine 数据聚 10 类 Calinski-Harabasz最优评价分值为：1488.485949\n"
     ]
    }
   ],
   "source": [
    "import pandas as pd\n",
    "import matplotlib.pyplot as plt\n",
    "from sklearn.preprocessing import StandardScaler\n",
    "from sklearn.cluster import KMeans\n",
    "from sklearn.metrics import fowlkes_mallows_score\n",
    "from sklearn.metrics import silhouette_score\n",
    "from sklearn.metrics import calinski_harabaz_score\n",
    "\n",
    "# 构建聚类数目为 3 的 K-Means 模型\n",
    "\n",
    "wine = pd.read_csv(\"../data/wine.csv\", sep = \",\")\n",
    "\n",
    "wine_data = wine.iloc[:,1:].values\n",
    "wine_target = wine.iloc[:,0].values\n",
    "\n",
    "stdScale = StandardScaler().fit(wine_data)\n",
    "wine_dataScale = stdScale.transform(wine_data)\n",
    "\n",
    "kmeans = KMeans(n_clusters = 3,random_state = 42).fit(wine_data)\n",
    "print(\"构建的 K-Means 模型为：\\n\", kmeans)\n",
    "\n",
    "# 对比真实标签和聚类标签求取 FMI\n",
    "\n",
    "score = fowlkes_mallows_score(wine_target, kmeans.labels_)\n",
    "print(\"wine 数据聚 3 类 FMI 评价分值为：%f\" %(score))\n",
    "\n",
    "# 在聚类数目为 2~10 类时，确定最优聚类数目\n",
    "\n",
    "best_i = -1\n",
    "best_score = -1;\n",
    "\n",
    "for i in range(2, 11):\n",
    "    kmeans = KMeans(n_clusters = i, random_state= 123).fit(wine_data)\n",
    "    score = fowlkes_mallows_score(wine_target, kmeans.labels_)\n",
    "    if score > best_score :\n",
    "        best_i = i\n",
    "        best_score = score\n",
    "\n",
    "print(\"wine 数据聚 %d 类 FMI 最优评价分值为：%f\" %(best_i, best_score))\n",
    "\n",
    "# 求取模型的轮廓系数，绘制轮廓系数折线图，确定最优聚类数目\n",
    "\n",
    "best_i = -1\n",
    "best_score = -1;\n",
    "silhouetteScore = []\n",
    "\n",
    "for i in range(2, 11):\n",
    "    kmeans = KMeans(n_clusters = i, random_state = 123).fit(wine_data)\n",
    "    score = silhouette_score(wine_data, kmeans.labels_)\n",
    "    silhouetteScore.append(score)\n",
    "    if score > best_score :\n",
    "        best_i = i\n",
    "        best_score = score\n",
    "\n",
    "plt.figure(figsize = (10, 6))\n",
    "plt.plot(range(2, 11), silhouetteScore, linewidth = 1.5, linestyle = \"-\")\n",
    "plt.show()\n",
    "\n",
    "print(\"wine 数据聚 %d 类轮廓系数最优评价分值为：%f\" %(best_i, best_score))\n",
    "\n",
    "# 求取 Calinski-Harabasz 指数，确定最优聚类数目\n",
    "\n",
    "best_i = -1\n",
    "best_score = -1;\n",
    "\n",
    "for i in range(2, 11):\n",
    "    kmeans = KMeans(n_clusters = i, random_state = 123).fit(wine_data)\n",
    "    score = calinski_harabaz_score(wine_data, kmeans.labels_)\n",
    "    if score > best_score :\n",
    "        best_i = i\n",
    "        best_score = score\n",
    "\n",
    "print(\"wine 数据聚 %d 类 Calinski-Harabasz最优评价分值为：%f\" %(best_i, best_score))"
   ]
  },
  {
   "cell_type": "markdown",
   "metadata": {},
   "source": [
    "# 实训 4 构建基于 wine_quality 数据集的回归模型"
   ]
  },
  {
   "cell_type": "code",
   "execution_count": 3,
   "metadata": {},
   "outputs": [
    {
     "name": "stdout",
     "output_type": "stream",
     "text": [
      "建立的 Linear Regression 模型为：\n",
      " LinearRegression(copy_X=True, fit_intercept=True, n_jobs=1, normalize=False)\n",
      "建立的梯度提升回归模型为：\n",
      " GradientBoostingRegressor(alpha=0.9, criterion='friedman_mse', init=None,\n",
      "             learning_rate=0.1, loss='ls', max_depth=3, max_features=None,\n",
      "             max_leaf_nodes=None, min_impurity_decrease=0.0,\n",
      "             min_impurity_split=None, min_samples_leaf=1,\n",
      "             min_samples_split=2, min_weight_fraction_leaf=0.0,\n",
      "             n_estimators=100, presort='auto', random_state=None,\n",
      "             subsample=1.0, verbose=0, warm_start=False)\n",
      "wine_quality 数据梯度提升回归树模型的均方误差为： 0.36361929035967694\n",
      "wine_quality 数据梯度提升回归树模型的中值绝对误差为： 0.43588906297013486\n",
      "wine_quality 数据梯度提升回归树模型的可解释方差值为： 0.4450449632062079\n",
      "均方误差相对不合理，同时可解释方差值不接近 1，估本次构建的模型是一个不为有效的模型。\n"
     ]
    }
   ],
   "source": [
    "import pandas as pd\n",
    "from sklearn.linear_model import LinearRegression\n",
    "from sklearn.model_selection import train_test_split\n",
    "from sklearn.ensemble import GradientBoostingRegressor\n",
    "from sklearn.metrics import mean_squared_error\n",
    "from sklearn.metrics import median_absolute_error\n",
    "from sklearn.metrics import explained_variance_score\n",
    "\n",
    "# 构建线性回归模型\n",
    "\n",
    "wine_quality = pd.read_csv(\"../data/winequality.csv\", sep = \";\")\n",
    "\n",
    "wine_quality_data = wine_quality.iloc[:,:-1].values\n",
    "wine_quality_target = wine_quality.iloc[:,-1].values\n",
    "\n",
    "X = wine_quality_data\n",
    "y = wine_quality_target\n",
    "\n",
    "X_train, X_test, y_train, y_test = \\\n",
    "    train_test_split(X, y, test_size = 0.2, random_state = 125) # 将数据划分为训练集、测试集\n",
    "\n",
    "clf = LinearRegression().fit(X_train, y_train)\n",
    "print(\"建立的 Linear Regression 模型为：\\n\", clf)\n",
    "\n",
    "# 构建梯度提升回归模型\n",
    "\n",
    "wine_quality_data_train, wine_quality_data_test, wine_quality_target_train, wine_quality_target_test = \\\n",
    "    train_test_split(wine_quality_data, wine_quality_target, test_size = 0.2, random_state = 42)\n",
    "\n",
    "GBR_wine_quality = GradientBoostingRegressor().fit(wine_quality_data_train, wine_quality_target_train)\n",
    "print(\"建立的梯度提升回归模型为：\\n\", GBR_wine_quality)\n",
    "\n",
    "# 结合真实评分和预测评分，计算均方误差、中值绝对误差、可解释方差值\n",
    "\n",
    "wine_quality_target_pred = GBR_wine_quality.predict(wine_quality_data_test)\n",
    "print(\"wine_quality 数据梯度提升回归树模型的均方误差为：\", \\\n",
    "    mean_squared_error(wine_quality_target_test, wine_quality_target_pred))\n",
    "print(\"wine_quality 数据梯度提升回归树模型的中值绝对误差为：\", \\\n",
    "    median_absolute_error(wine_quality_target_test, wine_quality_target_pred))\n",
    "print(\"wine_quality 数据梯度提升回归树模型的可解释方差值为：\", \\\n",
    "    explained_variance_score(wine_quality_target_test, wine_quality_target_pred))\n",
    "\n",
    "# 根据得分，判定模型的性能优劣\n",
    "\n",
    "print(\"均方误差相对不合理，同时可解释方差值不接近 1，估本次构建的模型是一个不为有效的模型。\")"
   ]
  },
  {
   "cell_type": "code",
   "execution_count": null,
   "metadata": {},
   "outputs": [],
   "source": []
  }
 ],
 "metadata": {
  "kernelspec": {
   "display_name": "Python 3",
   "language": "python",
   "name": "python3"
  },
  "language_info": {
   "codemirror_mode": {
    "name": "ipython",
    "version": 3
   },
   "file_extension": ".py",
   "mimetype": "text/x-python",
   "name": "python",
   "nbconvert_exporter": "python",
   "pygments_lexer": "ipython3",
   "version": "3.6.5"
  }
 },
 "nbformat": 4,
 "nbformat_minor": 2
}
