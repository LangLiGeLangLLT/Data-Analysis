{
 "cells": [
  {
   "cell_type": "markdown",
   "metadata": {},
   "source": [
    "# 转换字符串时间为标准时间"
   ]
  },
  {
   "cell_type": "code",
   "execution_count": 1,
   "metadata": {},
   "outputs": [
    {
     "name": "stdout",
     "output_type": "stream",
     "text": [
      "进行转换前订单信息表lock_time的类型为： object\n",
      "进行转换后订单信息表lock_time的类型为： datetime64[ns]\n"
     ]
    }
   ],
   "source": [
    "import pandas as pd\n",
    "\n",
    "order = pd.read_table(\"../data/meal_order_info.csv\",sep = \",\",encoding = \"gbk\")\n",
    "print(\"进行转换前订单信息表lock_time的类型为：\",order[\"lock_time\"].dtypes)\n",
    "order[\"lock_time\"] = pd.to_datetime(order[\"lock_time\"])\n",
    "print(\"进行转换后订单信息表lock_time的类型为：\",order[\"lock_time\"].dtypes)"
   ]
  },
  {
   "cell_type": "markdown",
   "metadata": {},
   "source": [
    "# Timestamp 的最小时间和最大时间"
   ]
  },
  {
   "cell_type": "code",
   "execution_count": 2,
   "metadata": {},
   "outputs": [
    {
     "name": "stdout",
     "output_type": "stream",
     "text": [
      "最小时间为： 1677-09-21 00:12:43.145225\n"
     ]
    }
   ],
   "source": [
    "print(\"最小时间为：\",pd.Timestamp.min)"
   ]
  },
  {
   "cell_type": "code",
   "execution_count": 3,
   "metadata": {},
   "outputs": [
    {
     "name": "stdout",
     "output_type": "stream",
     "text": [
      "最大时间为： 2262-04-11 23:47:16.854775807\n"
     ]
    }
   ],
   "source": [
    "print(\"最大时间为：\",pd.Timestamp.max)"
   ]
  },
  {
   "cell_type": "markdown",
   "metadata": {},
   "source": [
    "# 时间字符串转换为 DatetimeIndex 和 PeriodIndex"
   ]
  },
  {
   "cell_type": "code",
   "execution_count": 4,
   "metadata": {},
   "outputs": [
    {
     "name": "stdout",
     "output_type": "stream",
     "text": [
      "转换为DatetimeIndex后数据的类型为：\n",
      " <class 'pandas.core.indexes.datetimes.DatetimeIndex'>\n"
     ]
    }
   ],
   "source": [
    "dateIndex = pd.DatetimeIndex(order[\"lock_time\"])\n",
    "print(\"转换为DatetimeIndex后数据的类型为：\\n\",type(dateIndex))"
   ]
  },
  {
   "cell_type": "code",
   "execution_count": 5,
   "metadata": {},
   "outputs": [
    {
     "name": "stdout",
     "output_type": "stream",
     "text": [
      "转换为PeriodIndex后数据的类型为：\n",
      " <class 'pandas.core.indexes.period.PeriodIndex'>\n"
     ]
    }
   ],
   "source": [
    "periodIndex = pd.PeriodIndex(order[\"lock_time\"],freq = \"S\")\n",
    "print(\"转换为PeriodIndex后数据的类型为：\\n\",type(periodIndex))"
   ]
  },
  {
   "cell_type": "markdown",
   "metadata": {},
   "source": [
    "# 提取 datetime 数据中的时间序列数据"
   ]
  },
  {
   "cell_type": "code",
   "execution_count": 6,
   "metadata": {},
   "outputs": [
    {
     "name": "stdout",
     "output_type": "stream",
     "text": [
      "lock_time中的年份数据前5个为： [2016, 2016, 2016, 2016, 2016]\n",
      "lock_time中的月份数据前5个为： [8, 8, 8, 8, 8]\n",
      "lock_time中的日期数据前5个为： [1, 1, 1, 1, 1]\n",
      "lock_time的星期名称数据前5个为： ['Monday', 'Monday', 'Monday', 'Monday', 'Monday']\n"
     ]
    },
    {
     "name": "stderr",
     "output_type": "stream",
     "text": [
      "C:\\Program Files (x86)\\Microsoft Visual Studio\\Shared\\Anaconda3_64\\lib\\site-packages\\ipykernel_launcher.py:7: FutureWarning: `weekday_name` is deprecated and will be removed in a future version. Use `day_name` instead\n",
      "  import sys\n"
     ]
    }
   ],
   "source": [
    "year1 = [i.year for i in order[\"lock_time\"]]\n",
    "print(\"lock_time中的年份数据前5个为：\",year1[:5])\n",
    "month1 = [i.month for i in order[\"lock_time\"]]\n",
    "print(\"lock_time中的月份数据前5个为：\",month1[:5])\n",
    "day1 = [i.day for i in order[\"lock_time\"]]\n",
    "print(\"lock_time中的日期数据前5个为：\",day1[:5])\n",
    "weekday1 = [i.weekday_name for i in order[\"lock_time\"]]\n",
    "print(\"lock_time的星期名称数据前5个为：\",weekday1[:5])"
   ]
  },
  {
   "cell_type": "markdown",
   "metadata": {},
   "source": [
    "# 提取 DatetimeIndex 和 PeriodIndex 中的数据"
   ]
  },
  {
   "cell_type": "code",
   "execution_count": 7,
   "metadata": {},
   "outputs": [
    {
     "name": "stdout",
     "output_type": "stream",
     "text": [
      "dateIndex中的星期名称数据前5个为：\n",
      " Index(['Monday', 'Monday', 'Monday', 'Monday', 'Monday'], dtype='object', name='lock_time')\n",
      "periodIndex中的星期标号数据前5个为： Int64Index([0, 0, 0, 0, 0], dtype='int64', name='lock_time')\n"
     ]
    }
   ],
   "source": [
    "print(\"dateIndex中的星期名称数据前5个为：\\n\",dateIndex.weekday_name[:5])\n",
    "print(\"periodIndex中的星期标号数据前5个为：\",periodIndex.weekday[:5])"
   ]
  },
  {
   "cell_type": "markdown",
   "metadata": {},
   "source": [
    "# 使用 Timedelta 实现时间数据的加运算"
   ]
  },
  {
   "cell_type": "code",
   "execution_count": 8,
   "metadata": {},
   "outputs": [
    {
     "name": "stdout",
     "output_type": "stream",
     "text": [
      "lock_time加上一天前前5行数据为：\n",
      " 0   2016-08-01 11:11:46\n",
      "1   2016-08-01 11:31:55\n",
      "2   2016-08-01 12:54:37\n",
      "3   2016-08-01 13:08:20\n",
      "4   2016-08-01 13:07:16\n",
      "Name: lock_time, dtype: datetime64[ns]\n",
      "lock_time加上一天前前5行数据为：\n",
      " 0   2016-08-02 11:11:46\n",
      "1   2016-08-02 11:31:55\n",
      "2   2016-08-02 12:54:37\n",
      "3   2016-08-02 13:08:20\n",
      "4   2016-08-02 13:07:16\n",
      "Name: lock_time, dtype: datetime64[ns]\n"
     ]
    }
   ],
   "source": [
    "# 将lock_time数据向后平移一天\n",
    "\n",
    "time1 = order[\"lock_time\"] + pd.Timedelta(days = 1)\n",
    "print(\"lock_time加上一天前前5行数据为：\\n\",order[\"lock_time\"][:5])\n",
    "print(\"lock_time加上一天前前5行数据为：\\n\",time1[:5])"
   ]
  },
  {
   "cell_type": "markdown",
   "metadata": {},
   "source": [
    "# 使用 Timedelta 实现书剑数据的减运算"
   ]
  },
  {
   "cell_type": "code",
   "execution_count": 9,
   "metadata": {},
   "outputs": [
    {
     "name": "stdout",
     "output_type": "stream",
     "text": [
      "lock_time减去2017年1月1日0点0时0分后的数据：\n",
      " 0   -153 days +11:11:46\n",
      "1   -153 days +11:31:55\n",
      "2   -153 days +12:54:37\n",
      "3   -153 days +13:08:20\n",
      "4   -153 days +13:07:16\n",
      "Name: lock_time, dtype: timedelta64[ns]\n",
      "lock_time减去time1后的数据类型为： timedelta64[ns]\n"
     ]
    }
   ],
   "source": [
    "timeDelta = order[\"lock_time\"] - pd.to_datetime(\"2017-1-1\")\n",
    "print(\"lock_time减去2017年1月1日0点0时0分后的数据：\\n\",timeDelta[:5])\n",
    "print(\"lock_time减去time1后的数据类型为：\",timeDelta.dtypes)"
   ]
  },
  {
   "cell_type": "markdown",
   "metadata": {},
   "source": [
    "# 订单信息表时间数据转换"
   ]
  },
  {
   "cell_type": "code",
   "execution_count": 10,
   "metadata": {},
   "outputs": [
    {
     "name": "stdout",
     "output_type": "stream",
     "text": [
      "进行转换后订单信息表use_start_time和lock_time的类型为：\n",
      " use_start_time    datetime64[ns]\n",
      "lock_time         datetime64[ns]\n",
      "dtype: object\n"
     ]
    }
   ],
   "source": [
    "import pandas as pd\n",
    "\n",
    "order = pd.read_table(\"../data/meal_order_info.csv\",sep = \",\",encoding = \"gbk\")\n",
    "order[\"use_start_time\"] = pd.to_datetime(order[\"use_start_time\"])\n",
    "order[\"lock_time\"] = pd.to_datetime(order[\"lock_time\"])\n",
    "print(\"进行转换后订单信息表use_start_time和lock_time的类型为：\\n\",order[[\"use_start_time\",\"lock_time\"]].dtypes)"
   ]
  },
  {
   "cell_type": "markdown",
   "metadata": {},
   "source": [
    "# 订单信息表时间信息提取"
   ]
  },
  {
   "cell_type": "code",
   "execution_count": 12,
   "metadata": {},
   "outputs": [
    {
     "name": "stdout",
     "output_type": "stream",
     "text": [
      "订单详情表中的前5条数据的年份信息为： [2016, 2016, 2016, 2016, 2016]\n",
      "订单详情表中的前5条数据的月份信息为： [8, 8, 8, 8, 8]\n",
      "订单详情表中的前5条数据的日期信息为： [1, 1, 1, 1, 1]\n",
      "订单详情表中的前5条数据的周信息为： [31, 31, 31, 31, 31]\n",
      "订单详情表中的前5条数据的星期信息为： [0, 0, 0, 0, 0]\n",
      "订单详情表中的前5条数据的星期名称信息为： ['Monday', 'Monday', 'Monday', 'Monday', 'Monday']\n"
     ]
    },
    {
     "name": "stderr",
     "output_type": "stream",
     "text": [
      "C:\\Program Files (x86)\\Microsoft Visual Studio\\Shared\\Anaconda3_64\\lib\\site-packages\\ipykernel_launcher.py:9: FutureWarning: `weekday_name` is deprecated and will be removed in a future version. Use `day_name` instead\n",
      "  if __name__ == '__main__':\n"
     ]
    }
   ],
   "source": [
    "year = [i.year for i in order[\"lock_time\"]] # 提取年份信息\n",
    "month = [i.month for i in order[\"lock_time\"]] # 提取月份信息\n",
    "day = [i.day for i in order[\"lock_time\"]] # 提取日期信息\n",
    "week = [i.week for i in order[\"lock_time\"]] # 提取周信息\n",
    "weekday = [i.weekday() for i in order[\"lock_time\"]] # 提取星期信息\n",
    "\n",
    "# 提取星期名称信息\n",
    "\n",
    "weekname = [i.weekday_name for i in order[\"lock_time\"]]\n",
    "print(\"订单详情表中的前5条数据的年份信息为：\",year[:5])\n",
    "print(\"订单详情表中的前5条数据的月份信息为：\",month[:5])\n",
    "print(\"订单详情表中的前5条数据的日期信息为：\",day[:5])\n",
    "print(\"订单详情表中的前5条数据的周信息为：\",week[:5])\n",
    "print(\"订单详情表中的前5条数据的星期信息为：\",weekday[:5])\n",
    "print(\"订单详情表中的前5条数据的星期名称信息为：\",weekname[:5])"
   ]
  },
  {
   "cell_type": "markdown",
   "metadata": {},
   "source": [
    "# 查看订单信息表时间统计信息"
   ]
  },
  {
   "cell_type": "code",
   "execution_count": 13,
   "metadata": {},
   "outputs": [
    {
     "name": "stdout",
     "output_type": "stream",
     "text": [
      "订单最早的时间为： 2016-08-01 11:11:46\n",
      "订单最晚的时间为： 2016-08-31 21:56:12\n",
      "订单持续的时间为： 30 days 10:44:26\n"
     ]
    }
   ],
   "source": [
    "timemin = order[\"lock_time\"].min()\n",
    "timemax = order[\"lock_time\"].max()\n",
    "print(\"订单最早的时间为：\",timemin)\n",
    "print(\"订单最晚的时间为：\",timemax)\n",
    "print(\"订单持续的时间为：\",timemax - timemin)"
   ]
  },
  {
   "cell_type": "code",
   "execution_count": 14,
   "metadata": {},
   "outputs": [
    {
     "name": "stdout",
     "output_type": "stream",
     "text": [
      "平均点餐时间为： 0 days 01:12:10.326923\n",
      "最短点餐时间为： -1 days +00:05:03\n",
      "最长点餐时间为： 16 days 00:08:00\n"
     ]
    }
   ],
   "source": [
    "chekTime = order[\"lock_time\"] - order[\"use_start_time\"]\n",
    "print(\"平均点餐时间为：\",chekTime.mean())\n",
    "print(\"最短点餐时间为：\",chekTime.min())\n",
    "print(\"最长点餐时间为：\",chekTime.max())"
   ]
  },
  {
   "cell_type": "markdown",
   "metadata": {},
   "source": [
    "# 对菜品订单详情表依据订单编号分组"
   ]
  },
  {
   "cell_type": "code",
   "execution_count": 15,
   "metadata": {},
   "outputs": [
    {
     "name": "stdout",
     "output_type": "stream",
     "text": [
      "分组后的订单详情表为： <pandas.core.groupby.groupby.DataFrameGroupBy object at 0x000000B23502C940>\n"
     ]
    }
   ],
   "source": [
    "import pandas as pd\n",
    "import numpy as np\n",
    "from sqlalchemy import create_engine\n",
    "\n",
    "engine = create_engine(\"mysql+pymysql://root:@127.0.0.1:3306/testdb?charset=utf8\")\n",
    "detail = pd.read_sql_table(\"meal_order_detail1\",con = engine)\n",
    "detailGroup = detail[[\"order_id\",\"counts\",\"amounts\"]].groupby(by = \"order_id\")\n",
    "print(\"分组后的订单详情表为：\",detailGroup)"
   ]
  },
  {
   "cell_type": "markdown",
   "metadata": {},
   "source": [
    "# GroupBy 类求均值、标准差、中位数"
   ]
  },
  {
   "cell_type": "code",
   "execution_count": 16,
   "metadata": {},
   "outputs": [
    {
     "name": "stdout",
     "output_type": "stream",
     "text": [
      "订单详情表分组后前5组每组的均值为：\n",
      "           counts  amounts\n",
      "order_id                 \n",
      "1002      1.0000   32.000\n",
      "1003      1.2500   30.125\n",
      "1004      1.0625   43.875\n",
      "1008      1.0000   63.000\n",
      "1011      1.0000   57.700\n"
     ]
    }
   ],
   "source": [
    "print(\"订单详情表分组后前5组每组的均值为：\\n\",detailGroup.mean().head())"
   ]
  },
  {
   "cell_type": "code",
   "execution_count": 17,
   "metadata": {},
   "outputs": [
    {
     "name": "stdout",
     "output_type": "stream",
     "text": [
      "订单详情表分组后前5组每组的标准差为：\n",
      "            counts    amounts\n",
      "order_id                    \n",
      "1002      0.00000  16.000000\n",
      "1003      0.46291  21.383822\n",
      "1004      0.25000  31.195886\n",
      "1008      0.00000  64.880660\n",
      "1011      0.00000  50.077828\n"
     ]
    }
   ],
   "source": [
    "print(\"订单详情表分组后前5组每组的标准差为：\\n\",detailGroup.std().head())"
   ]
  },
  {
   "cell_type": "code",
   "execution_count": 18,
   "metadata": {},
   "outputs": [
    {
     "name": "stdout",
     "output_type": "stream",
     "text": [
      "订单详情表分组后前5组每组的大小为：\n",
      " order_id\n",
      "1002     7\n",
      "1003     8\n",
      "1004    16\n",
      "1008     5\n",
      "1011    10\n",
      "dtype: int64\n"
     ]
    }
   ],
   "source": [
    "print(\"订单详情表分组后前5组每组的大小为：\\n\",detailGroup.size().head())"
   ]
  },
  {
   "cell_type": "markdown",
   "metadata": {},
   "source": [
    "# 使用 agg 求出当前数据对应的统计量"
   ]
  },
  {
   "cell_type": "code",
   "execution_count": 19,
   "metadata": {},
   "outputs": [
    {
     "name": "stdout",
     "output_type": "stream",
     "text": [
      "订单详情表的菜品销量与售价的和与均值为：\n",
      "            counts        amounts\n",
      "sum   3088.000000  125992.000000\n",
      "mean     1.111191      45.337172\n"
     ]
    }
   ],
   "source": [
    "print(\"订单详情表的菜品销量与售价的和与均值为：\\n\",detail[[\"counts\",\"amounts\"]].agg([np.sum,np.mean]))"
   ]
  },
  {
   "cell_type": "markdown",
   "metadata": {},
   "source": [
    "# 使用 agg 分别求字段的不同统计量"
   ]
  },
  {
   "cell_type": "code",
   "execution_count": 20,
   "metadata": {},
   "outputs": [
    {
     "name": "stdout",
     "output_type": "stream",
     "text": [
      "订单详情表的菜品销量总和与售价的均值为：\n",
      " counts     3088.000000\n",
      "amounts      45.337172\n",
      "dtype: float64\n"
     ]
    }
   ],
   "source": [
    "print(\"订单详情表的菜品销量总和与售价的均值为：\\n\",detail.agg({\"counts\":np.sum,\"amounts\":np.mean}))"
   ]
  },
  {
   "cell_type": "markdown",
   "metadata": {},
   "source": [
    "# 使用 agg 方法求不同字段的不同数目统计量"
   ]
  },
  {
   "cell_type": "code",
   "execution_count": 21,
   "metadata": {},
   "outputs": [
    {
     "name": "stdout",
     "output_type": "stream",
     "text": [
      "菜品订单详情表的菜品销量总和与均值为：\n",
      "       counts        amounts\n",
      "mean     NaN      45.337172\n",
      "sum   3088.0  125992.000000\n"
     ]
    }
   ],
   "source": [
    "print(\"菜品订单详情表的菜品销量总和与均值为：\\n\",detail.agg({\"counts\":np.sum,\"amounts\":[np.mean,np.sum]}))"
   ]
  },
  {
   "cell_type": "markdown",
   "metadata": {},
   "source": [
    "# 在 agg 方法中使用自定义函数"
   ]
  },
  {
   "cell_type": "code",
   "execution_count": 22,
   "metadata": {},
   "outputs": [
    {
     "name": "stdout",
     "output_type": "stream",
     "text": [
      "菜品订单详情表的菜品销量两倍总和为：\n",
      " counts    6176.0\n",
      "dtype: float64\n"
     ]
    }
   ],
   "source": [
    "# 自定义函数求两倍的和\n",
    "\n",
    "def DoubleSum(data):\n",
    "    s = data.sum() * 2\n",
    "    return s\n",
    "\n",
    "print(\"菜品订单详情表的菜品销量两倍总和为：\\n\",detail.agg({\"counts\":DoubleSum},axis = 0))"
   ]
  },
  {
   "cell_type": "markdown",
   "metadata": {},
   "source": [
    "# agg 方法中使用的自定义函数含 NumPy 中的函数"
   ]
  },
  {
   "cell_type": "code",
   "execution_count": 23,
   "metadata": {},
   "outputs": [
    {
     "name": "stdout",
     "output_type": "stream",
     "text": [
      "订单详情表的菜品销量两倍总和为：\n",
      "    counts\n",
      "0     2.0\n",
      "1     2.0\n",
      "2     2.0\n",
      "3     2.0\n",
      "4     2.0\n"
     ]
    }
   ],
   "source": [
    "# 自定义函数求两倍的和\n",
    "\n",
    "def DoubleSum1(data):\n",
    "    s = np.sum(data) * 2\n",
    "    return s\n",
    "\n",
    "print(\"订单详情表的菜品销量两倍总和为：\\n\",detail.agg({\"counts\":DoubleSum1},axis = 0).head())"
   ]
  },
  {
   "cell_type": "code",
   "execution_count": 24,
   "metadata": {},
   "outputs": [
    {
     "name": "stdout",
     "output_type": "stream",
     "text": [
      "订单详情表的菜品销量与售价的和的两倍为：\n",
      " counts       6176.0\n",
      "amounts    251984.0\n",
      "dtype: float64\n"
     ]
    }
   ],
   "source": [
    "print(\"订单详情表的菜品销量与售价的和的两倍为：\\n\",detail[[\"counts\",\"amounts\"]].agg(DoubleSum1))"
   ]
  },
  {
   "cell_type": "markdown",
   "metadata": {},
   "source": [
    "# 使用 agg 方法做简单的聚合"
   ]
  },
  {
   "cell_type": "code",
   "execution_count": 25,
   "metadata": {},
   "outputs": [
    {
     "name": "stdout",
     "output_type": "stream",
     "text": [
      "订单详情表分组后前3组每组的均值为：\n",
      "           counts  amounts\n",
      "order_id                 \n",
      "1002      1.0000   32.000\n",
      "1003      1.2500   30.125\n",
      "1004      1.0625   43.875\n"
     ]
    }
   ],
   "source": [
    "print(\"订单详情表分组后前3组每组的均值为：\\n\",detailGroup.agg(np.mean).head(3))"
   ]
  },
  {
   "cell_type": "code",
   "execution_count": 26,
   "metadata": {},
   "outputs": [
    {
     "name": "stdout",
     "output_type": "stream",
     "text": [
      "订单详情表分组后前3组每组的标准差为：\n",
      "            counts    amounts\n",
      "order_id                    \n",
      "1002      0.00000  16.000000\n",
      "1003      0.46291  21.383822\n",
      "1004      0.25000  31.195886\n"
     ]
    }
   ],
   "source": [
    "print(\"订单详情表分组后前3组每组的标准差为：\\n\",detailGroup.agg(np.std).head(3))"
   ]
  },
  {
   "cell_type": "markdown",
   "metadata": {},
   "source": [
    "# 使用 agg 方法对分组数据使用不同的聚合函数"
   ]
  },
  {
   "cell_type": "code",
   "execution_count": 27,
   "metadata": {},
   "outputs": [
    {
     "name": "stdout",
     "output_type": "stream",
     "text": [
      "订单详情分组前3组每组菜品总数和售价均值为：\n",
      "           counts  amounts\n",
      "order_id                 \n",
      "1002         7.0   32.000\n",
      "1003        10.0   30.125\n",
      "1004        17.0   43.875\n"
     ]
    }
   ],
   "source": [
    "print(\"订单详情分组前3组每组菜品总数和售价均值为：\\n\",detailGroup.agg({\"counts\":np.sum,\"amounts\":np.mean}).head(3))"
   ]
  },
  {
   "cell_type": "markdown",
   "metadata": {},
   "source": [
    "# apply 方法的基本用法"
   ]
  },
  {
   "cell_type": "code",
   "execution_count": 28,
   "metadata": {},
   "outputs": [
    {
     "name": "stdout",
     "output_type": "stream",
     "text": [
      "订单详情表的菜品销量与售价的均值为：\n",
      " counts      1.111191\n",
      "amounts    45.337172\n",
      "dtype: float64\n"
     ]
    }
   ],
   "source": [
    "print(\"订单详情表的菜品销量与售价的均值为：\\n\",detail[[\"counts\",\"amounts\"]].apply(np.mean))"
   ]
  },
  {
   "cell_type": "markdown",
   "metadata": {},
   "source": [
    "# 使用 apply 方法进行聚合操作"
   ]
  },
  {
   "cell_type": "code",
   "execution_count": 29,
   "metadata": {},
   "outputs": [
    {
     "name": "stdout",
     "output_type": "stream",
     "text": [
      "订单详情表分组后前3组每组的均值为：\n",
      "               order_id  counts  amounts\n",
      "order_id                               \n",
      "1002      1.431572e+26  1.0000   32.000\n",
      "1003      1.253875e+30  1.2500   30.125\n",
      "1004      6.275628e+61  1.0625   43.875\n"
     ]
    }
   ],
   "source": [
    "print(\"订单详情表分组后前3组每组的均值为：\\n\",detailGroup.apply(np.mean).head(3))"
   ]
  },
  {
   "cell_type": "code",
   "execution_count": 30,
   "metadata": {},
   "outputs": [
    {
     "name": "stdout",
     "output_type": "stream",
     "text": [
      "订单详情表分组后前3组每组的标准差为：\n",
      "             counts    amounts\n",
      "order_id                     \n",
      "1002      0.000000  14.813122\n",
      "1003      0.433013  20.002734\n",
      "1004      0.242061  30.205287\n"
     ]
    }
   ],
   "source": [
    "print(\"订单详情表分组后前3组每组的标准差为：\\n\",detailGroup.apply(np.std).head(3))"
   ]
  },
  {
   "cell_type": "markdown",
   "metadata": {},
   "source": [
    "# 使用 transform 方法将销量和售价翻倍"
   ]
  },
  {
   "cell_type": "code",
   "execution_count": 34,
   "metadata": {},
   "outputs": [
    {
     "name": "stdout",
     "output_type": "stream",
     "text": [
      "订单详情表的菜品销量与售价的两倍为：\n",
      "    counts  amounts\n",
      "0     2.0     98.0\n",
      "1     2.0     96.0\n",
      "2     2.0     60.0\n",
      "3     2.0     50.0\n"
     ]
    }
   ],
   "source": [
    "print(\"订单详情表的菜品销量与售价的两倍为：\\n\",detail[[\"counts\",\"amounts\"]].transform(lambda x:x*2).head(4))"
   ]
  },
  {
   "cell_type": "markdown",
   "metadata": {},
   "source": [
    "# 使用 transform 实现组内离差标准化"
   ]
  },
  {
   "cell_type": "code",
   "execution_count": 36,
   "metadata": {},
   "outputs": [
    {
     "name": "stderr",
     "output_type": "stream",
     "text": [
      "C:\\Program Files (x86)\\Microsoft Visual Studio\\Shared\\Anaconda3_64\\lib\\site-packages\\ipykernel_launcher.py:1: RuntimeWarning: invalid value encountered in double_scalars\n",
      "  \"\"\"Entry point for launching an IPython kernel.\n"
     ]
    },
    {
     "name": "stdout",
     "output_type": "stream",
     "text": [
      "订单详情表分组后实现组内离差标准化后前5行为：\n",
      "    counts   amounts\n",
      "0     NaN  0.555556\n",
      "1     NaN  0.555556\n",
      "2     NaN  0.555556\n",
      "3     NaN  0.555556\n",
      "4     NaN  0.555556\n"
     ]
    }
   ],
   "source": [
    "print(\"订单详情表分组后实现组内离差标准化后前5行为：\\n\",detailGroup.transform(lambda x:(x.mean()-x.min())/(x.max()-x.min())).head())"
   ]
  },
  {
   "cell_type": "markdown",
   "metadata": {},
   "source": [
    "# 订单详情表按照日期分组"
   ]
  },
  {
   "cell_type": "code",
   "execution_count": 37,
   "metadata": {},
   "outputs": [
    {
     "name": "stdout",
     "output_type": "stream",
     "text": [
      "订单详情表前5组每组的数目为：\n",
      " date\n",
      "2016-08-01    217\n",
      "2016-08-02    138\n",
      "2016-08-03    157\n",
      "2016-08-04    144\n",
      "2016-08-05    193\n",
      "dtype: int64\n"
     ]
    }
   ],
   "source": [
    "import pandas as pd\n",
    "import numpy as np\n",
    "from sqlalchemy import create_engine\n",
    "\n",
    "engine = create_engine(\"mysql+pymysql://root:@127.0.0.1:3306/testdb?charset=utf8\")\n",
    "detail = pd.read_sql_table(\"meal_order_detail1\",con = engine)\n",
    "detail[\"place_order_time\"] = pd.to_datetime(detail[\"place_order_time\"])\n",
    "detail[\"date\"] = [i.date() for i in detail[\"place_order_time\"]]\n",
    "detailGroup = detail[[\"date\",\"counts\",\"amounts\"]].groupby(by = \"date\")\n",
    "print(\"订单详情表前5组每组的数目为：\\n\",detailGroup.size().head())"
   ]
  },
  {
   "cell_type": "markdown",
   "metadata": {},
   "source": [
    "# 求分组后的订单详情表每日菜品销售的均价、中位数"
   ]
  },
  {
   "cell_type": "code",
   "execution_count": 38,
   "metadata": {},
   "outputs": [
    {
     "name": "stdout",
     "output_type": "stream",
     "text": [
      "订单详情表前5组单日菜品销售均价为：\n",
      "               amounts\n",
      "date                 \n",
      "2016-08-01  43.161290\n",
      "2016-08-02  44.384058\n",
      "2016-08-03  43.885350\n",
      "2016-08-04  52.423611\n",
      "2016-08-05  44.927461\n"
     ]
    }
   ],
   "source": [
    "dayMean = detailGroup.agg({\"amounts\":np.mean})\n",
    "print(\"订单详情表前5组单日菜品销售均价为：\\n\",dayMean.head())"
   ]
  },
  {
   "cell_type": "code",
   "execution_count": 41,
   "metadata": {},
   "outputs": [
    {
     "name": "stdout",
     "output_type": "stream",
     "text": [
      "订单详情表前5组单日菜品售价中位数为：\n",
      "             amounts\n",
      "date               \n",
      "2016-08-01     33.0\n",
      "2016-08-02     35.0\n",
      "2016-08-03     38.0\n",
      "2016-08-04     39.0\n",
      "2016-08-05     37.0\n"
     ]
    }
   ],
   "source": [
    "dayMedian = detailGroup.agg({\"amounts\":np.median})\n",
    "print(\"订单详情表前5组单日菜品售价中位数为：\\n\",dayMedian.head())"
   ]
  },
  {
   "cell_type": "markdown",
   "metadata": {},
   "source": [
    "# 求取订单详情表中单日菜品总销量"
   ]
  },
  {
   "cell_type": "code",
   "execution_count": 42,
   "metadata": {},
   "outputs": [
    {
     "name": "stdout",
     "output_type": "stream",
     "text": [
      "订单详情表前5组单日菜品售出数目为：\n",
      " date\n",
      "2016-08-01    233.0\n",
      "2016-08-02    151.0\n",
      "2016-08-03    192.0\n",
      "2016-08-04    169.0\n",
      "2016-08-05    224.0\n",
      "Name: counts, dtype: float64\n"
     ]
    }
   ],
   "source": [
    "daySaleSum = detailGroup.apply(np.sum)[\"counts\"]\n",
    "print(\"订单详情表前5组单日菜品售出数目为：\\n\",daySaleSum.head())"
   ]
  },
  {
   "cell_type": "code",
   "execution_count": null,
   "metadata": {},
   "outputs": [],
   "source": []
  }
 ],
 "metadata": {
  "kernelspec": {
   "display_name": "Python 3",
   "language": "python",
   "name": "python3"
  },
  "language_info": {
   "codemirror_mode": {
    "name": "ipython",
    "version": 3
   },
   "file_extension": ".py",
   "mimetype": "text/x-python",
   "name": "python",
   "nbconvert_exporter": "python",
   "pygments_lexer": "ipython3",
   "version": "3.6.5"
  }
 },
 "nbformat": 4,
 "nbformat_minor": 2
}
