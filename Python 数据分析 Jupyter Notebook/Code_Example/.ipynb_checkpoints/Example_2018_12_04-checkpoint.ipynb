{
 "cells": [
  {
   "cell_type": "markdown",
   "metadata": {},
   "source": [
    "# get_dummies 函数的参数及说明"
   ]
  },
  {
   "cell_type": "code",
   "execution_count": 1,
   "metadata": {},
   "outputs": [],
   "source": [
    "# get_dummies 函数：\n",
    "\n",
    "# pandas.get_dummies(data, prefix = None, prefix_sep = \"_\", dummy_na = False, columns = None, sparse = False, drop_first = False)\n",
    "\n",
    "# data           接收 array、DataFrame 或者 Series。表示需要哑变量处理的数据。无默认\n",
    "\n",
    "# prefix         接收 string、string 的列表或者 string 的 dict。表示哑变量化后列名的前缀。默认为 None\n",
    "\n",
    "# prefix_sep     接收 string。表示前缀的连接符。默认为 \"_\"\n",
    "\n",
    "# dummy_na       接收 boolean。表示是否为 NaN 值添加一列。默认为 False\n",
    "\n",
    "# columns        接收类似 list 的数据。表示 DataFrame 中需要编码的列名。默认为 None，表示对所有 object 和 category 类型进行编码\n",
    "\n",
    "# sparse         接收 boolean。表示虚拟列是否是稀疏的。默认为 False\n",
    "\n",
    "# drop_first     接收 boolean。表示是否通过从 k 个分类级别中删除第一级来获得 k-1 个分类级别。默认为 False"
   ]
  },
  {
   "cell_type": "markdown",
   "metadata": {},
   "source": [
    "# 哑变量处理示例"
   ]
  },
  {
   "cell_type": "code",
   "execution_count": 2,
   "metadata": {},
   "outputs": [
    {
     "name": "stdout",
     "output_type": "stream",
     "text": [
      "哑变量处理前的数据为：\n",
      " 0     蒜蓉生蚝\n",
      "1    蒙古烤羊腿\n",
      "2     大蒜苋菜\n",
      "3    芝麻烤紫菜\n",
      "4      蒜香包\n",
      "5      白斩鸡\n",
      "Name: dishes_name, dtype: object\n",
      "哑变量处理后的数据为：\n",
      "    大蒜苋菜  白斩鸡  芝麻烤紫菜  蒙古烤羊腿  蒜蓉生蚝  蒜香包\n",
      "0     0    0      0      0     1    0\n",
      "1     0    0      0      1     0    0\n",
      "2     1    0      0      0     0    0\n",
      "3     0    0      1      0     0    0\n",
      "4     0    0      0      0     0    1\n",
      "5     0    1      0      0     0    0\n"
     ]
    }
   ],
   "source": [
    "import pandas as pd\n",
    "import numpy as np\n",
    "\n",
    "detail = pd.read_csv(\"../data/detail.csv\", encoding = \"gbk\")\n",
    "data = detail.loc[0:5,\"dishes_name\"] # 抽取部分数据做演示\n",
    "print(\"哑变量处理前的数据为：\\n\", data)\n",
    "print(\"哑变量处理后的数据为：\\n\", pd.get_dummies(data))"
   ]
  },
  {
   "cell_type": "markdown",
   "metadata": {},
   "source": [
    "# cut 函数的常用参数及其说明"
   ]
  },
  {
   "cell_type": "code",
   "execution_count": 3,
   "metadata": {},
   "outputs": [],
   "source": [
    "# cut 函数：\n",
    "\n",
    "# pandas.cut(x, bins, right = True, labels = None, retbins = False, precision = 3,include_lowest = False)\n",
    "\n",
    "# x                     接收 array 或 Series。代表需要进行离散化处理的数据。无默认\n",
    "\n",
    "# bins                  接收 int、list、array 和 tuple。若为 int，则代表离散化后的类别数目；若为序列类型的数据，则表示\n",
    "#                       进行切分的区间，每两个数的间隔为一个区间。无默认\n",
    "\n",
    "# right                 接收 boolean。代表右侧是否为闭区间。默认为 True\n",
    "\n",
    "# labels                接收 list、array。代表离散化后各个类别的名称。默认为空\n",
    "\n",
    "# retbins               接收 boolean。代表是否返回区间标签。默认为 False\n",
    "\n",
    "# precision             接收 int。显示标签的精度。默认为 3"
   ]
  },
  {
   "cell_type": "markdown",
   "metadata": {},
   "source": [
    "# 等宽法离散化示例"
   ]
  },
  {
   "cell_type": "code",
   "execution_count": 4,
   "metadata": {},
   "outputs": [
    {
     "name": "stdout",
     "output_type": "stream",
     "text": [
      "离散化后 5 条记录售价分布为：\n",
      " (0.823, 36.4]     5461\n",
      "(36.4, 71.8]      3157\n",
      "(71.8, 107.2]      839\n",
      "(142.6, 178.0]     426\n",
      "(107.2, 142.6]     154\n",
      "Name: amounts, dtype: int64\n"
     ]
    }
   ],
   "source": [
    "price = pd.cut(detail[\"amounts\"], 5)\n",
    "print(\"离散化后 5 条记录售价分布为：\\n\", price.value_counts())"
   ]
  },
  {
   "cell_type": "markdown",
   "metadata": {},
   "source": [
    "# 等频法离散化示例"
   ]
  },
  {
   "cell_type": "code",
   "execution_count": 5,
   "metadata": {},
   "outputs": [
    {
     "name": "stdout",
     "output_type": "stream",
     "text": [
      "菜品数据等频法离散化各个类别数目分布状况为：\n",
      " (18.0, 32.0]     2107\n",
      "(39.0, 58.0]     2080\n",
      "(32.0, 39.0]     1910\n",
      "(1.0, 18.0]      1891\n",
      "(58.0, 178.0]    1863\n",
      "Name: amounts, dtype: int64\n"
     ]
    }
   ],
   "source": [
    "# 自定义等频法离散化函数\n",
    "\n",
    "def SameRateCut(data, k):\n",
    "    w = data.quantile(np.arange(0, 1 + 1.0 / k, 1.0 / k))\n",
    "    data = pd.cut(data, w)\n",
    "    return data\n",
    "\n",
    "# 对菜品售价进行等频法离散化\n",
    "\n",
    "result = SameRateCut(detail[\"amounts\"], 5).value_counts()\n",
    "print(\"菜品数据等频法离散化各个类别数目分布状况为：\\n\", result)"
   ]
  },
  {
   "cell_type": "markdown",
   "metadata": {},
   "source": [
    "# 基于聚类分析的离散化"
   ]
  },
  {
   "cell_type": "code",
   "execution_count": 21,
   "metadata": {},
   "outputs": [
    {
     "ename": "AttributeError",
     "evalue": "'Series' object has no attribute 'reshape'",
     "output_type": "error",
     "traceback": [
      "\u001b[1;31m---------------------------------------------------------------------------\u001b[0m",
      "\u001b[1;31mAttributeError\u001b[0m                            Traceback (most recent call last)",
      "\u001b[1;32m<ipython-input-21-ced070d4a37d>\u001b[0m in \u001b[0;36m<module>\u001b[1;34m()\u001b[0m\n\u001b[0;32m     14\u001b[0m \u001b[1;33m\u001b[0m\u001b[0m\n\u001b[0;32m     15\u001b[0m \u001b[1;31m# 菜品售价等频法离散化\u001b[0m\u001b[1;33m\u001b[0m\u001b[1;33m\u001b[0m\u001b[0m\n\u001b[1;32m---> 16\u001b[1;33m \u001b[0mresult\u001b[0m \u001b[1;33m=\u001b[0m \u001b[0mKmeanCut\u001b[0m\u001b[1;33m(\u001b[0m\u001b[0mdetail\u001b[0m\u001b[1;33m[\u001b[0m\u001b[1;34m\"amounts\"\u001b[0m\u001b[1;33m]\u001b[0m\u001b[1;33m,\u001b[0m \u001b[1;36m5\u001b[0m\u001b[1;33m)\u001b[0m\u001b[1;33m.\u001b[0m\u001b[0mvalue_counts\u001b[0m\u001b[1;33m(\u001b[0m\u001b[1;33m)\u001b[0m\u001b[1;33m\u001b[0m\u001b[0m\n\u001b[0m\u001b[0;32m     17\u001b[0m \u001b[0mprint\u001b[0m\u001b[1;33m(\u001b[0m\u001b[1;34m\"菜品售价聚类离散化后各个类别数目分布状况为：\\n\"\u001b[0m\u001b[1;33m,\u001b[0m \u001b[0mresult\u001b[0m\u001b[1;33m)\u001b[0m\u001b[1;33m\u001b[0m\u001b[0m\n",
      "\u001b[1;32m<ipython-input-21-ced070d4a37d>\u001b[0m in \u001b[0;36mKmeanCut\u001b[1;34m(data, k)\u001b[0m\n\u001b[0;32m      5\u001b[0m     \u001b[1;31m# 建立模型，n_jobs 是并行数\u001b[0m\u001b[1;33m\u001b[0m\u001b[1;33m\u001b[0m\u001b[0m\n\u001b[0;32m      6\u001b[0m     \u001b[0mkmodel\u001b[0m \u001b[1;33m=\u001b[0m \u001b[0mKMeans\u001b[0m\u001b[1;33m(\u001b[0m\u001b[0mn_clusters\u001b[0m \u001b[1;33m=\u001b[0m \u001b[0mk\u001b[0m\u001b[1;33m,\u001b[0m \u001b[0mn_jobs\u001b[0m \u001b[1;33m=\u001b[0m \u001b[1;36m4\u001b[0m\u001b[1;33m)\u001b[0m\u001b[1;33m\u001b[0m\u001b[0m\n\u001b[1;32m----> 7\u001b[1;33m     \u001b[0mkmodel\u001b[0m\u001b[1;33m.\u001b[0m\u001b[0mfit\u001b[0m\u001b[1;33m(\u001b[0m\u001b[0mdata\u001b[0m\u001b[1;33m.\u001b[0m\u001b[0mreshape\u001b[0m\u001b[1;33m(\u001b[0m\u001b[1;33m(\u001b[0m\u001b[0mlen\u001b[0m\u001b[1;33m(\u001b[0m\u001b[0mdata\u001b[0m\u001b[1;33m)\u001b[0m\u001b[1;33m,\u001b[0m \u001b[1;36m1\u001b[0m\u001b[1;33m)\u001b[0m\u001b[1;33m)\u001b[0m\u001b[1;33m)\u001b[0m \u001b[1;31m# 训练模型\u001b[0m\u001b[1;33m\u001b[0m\u001b[0m\n\u001b[0m\u001b[0;32m      8\u001b[0m     \u001b[1;31m# 输出聚类中心并排序\u001b[0m\u001b[1;33m\u001b[0m\u001b[1;33m\u001b[0m\u001b[0m\n\u001b[0;32m      9\u001b[0m     \u001b[0mc\u001b[0m \u001b[1;33m=\u001b[0m \u001b[0mpd\u001b[0m\u001b[1;33m.\u001b[0m\u001b[0mDataFrame\u001b[0m\u001b[1;33m(\u001b[0m\u001b[0mkmodel\u001b[0m\u001b[1;33m.\u001b[0m\u001b[0mcluster_centers_\u001b[0m\u001b[1;33m)\u001b[0m\u001b[1;33m.\u001b[0m\u001b[0msort_values\u001b[0m\u001b[1;33m(\u001b[0m\u001b[1;36m0\u001b[0m\u001b[1;33m)\u001b[0m\u001b[1;33m\u001b[0m\u001b[0m\n",
      "\u001b[1;32mC:\\Program Files (x86)\\Microsoft Visual Studio\\Shared\\Anaconda3_64\\lib\\site-packages\\pandas\\core\\generic.py\u001b[0m in \u001b[0;36m__getattr__\u001b[1;34m(self, name)\u001b[0m\n\u001b[0;32m   4370\u001b[0m             \u001b[1;32mif\u001b[0m \u001b[0mself\u001b[0m\u001b[1;33m.\u001b[0m\u001b[0m_info_axis\u001b[0m\u001b[1;33m.\u001b[0m\u001b[0m_can_hold_identifiers_and_holds_name\u001b[0m\u001b[1;33m(\u001b[0m\u001b[0mname\u001b[0m\u001b[1;33m)\u001b[0m\u001b[1;33m:\u001b[0m\u001b[1;33m\u001b[0m\u001b[0m\n\u001b[0;32m   4371\u001b[0m                 \u001b[1;32mreturn\u001b[0m \u001b[0mself\u001b[0m\u001b[1;33m[\u001b[0m\u001b[0mname\u001b[0m\u001b[1;33m]\u001b[0m\u001b[1;33m\u001b[0m\u001b[0m\n\u001b[1;32m-> 4372\u001b[1;33m             \u001b[1;32mreturn\u001b[0m \u001b[0mobject\u001b[0m\u001b[1;33m.\u001b[0m\u001b[0m__getattribute__\u001b[0m\u001b[1;33m(\u001b[0m\u001b[0mself\u001b[0m\u001b[1;33m,\u001b[0m \u001b[0mname\u001b[0m\u001b[1;33m)\u001b[0m\u001b[1;33m\u001b[0m\u001b[0m\n\u001b[0m\u001b[0;32m   4373\u001b[0m \u001b[1;33m\u001b[0m\u001b[0m\n\u001b[0;32m   4374\u001b[0m     \u001b[1;32mdef\u001b[0m \u001b[0m__setattr__\u001b[0m\u001b[1;33m(\u001b[0m\u001b[0mself\u001b[0m\u001b[1;33m,\u001b[0m \u001b[0mname\u001b[0m\u001b[1;33m,\u001b[0m \u001b[0mvalue\u001b[0m\u001b[1;33m)\u001b[0m\u001b[1;33m:\u001b[0m\u001b[1;33m\u001b[0m\u001b[0m\n",
      "\u001b[1;31mAttributeError\u001b[0m: 'Series' object has no attribute 'reshape'"
     ]
    }
   ],
   "source": [
    "# 自定义数据 K-Means 聚类离散化函数\n",
    "\n",
    "def KmeanCut(data, k):\n",
    "    from sklearn.cluster import KMeans # 引入 K-Means\n",
    "    # 建立模型，n_jobs 是并行数\n",
    "    kmodel = KMeans(n_clusters = k, n_jobs = 4)\n",
    "    kmodel.fit(data.reshape((len(data), 1))) # 训练模型\n",
    "    # 输出聚类中心并排序\n",
    "    c = pd.DataFrame(kmodel.cluster_centers_).sort_values(0)\n",
    "    w = pd.rolling_mean(c, 2).iloc[1:] # 相邻两项求中点，作为边界点\n",
    "    w = [0] + list(w[0]) +[data.max()] # 把首末边界点加上\n",
    "    data = pd.cut(data, w)\n",
    "    return data\n",
    "\n",
    "# 菜品售价等频法离散化\n",
    "result = KmeanCut(detail[\"amounts\"], 5).value_counts()\n",
    "print(\"菜品售价聚类离散化后各个类别数目分布状况为：\\n\", result)"
   ]
  },
  {
   "cell_type": "markdown",
   "metadata": {},
   "source": [
    "# 菜品 dishes_name 哑变量处理"
   ]
  },
  {
   "cell_type": "code",
   "execution_count": 7,
   "metadata": {},
   "outputs": [
    {
     "name": "stdout",
     "output_type": "stream",
     "text": [
      "哑变量处理前的数据为：\n",
      " 0     蒜蓉生蚝\n",
      "1    蒙古烤羊腿\n",
      "2     大蒜苋菜\n",
      "3    芝麻烤紫菜\n",
      "4      蒜香包\n",
      "Name: dishes_name, dtype: object\n",
      "哑变量处理后的数据为：\n",
      "    38度剑南春  42度海之蓝  50度古井贡酒  52度泸州老窖  53度茅台\n",
      "0       0       0        0        0      0\n",
      "1       0       0        0        0      0\n",
      "2       0       0        0        0      0\n",
      "3       0       0        0        0      0\n",
      "4       0       0        0        0      0\n"
     ]
    }
   ],
   "source": [
    "data = detail.loc[:,\"dishes_name\"]\n",
    "print(\"哑变量处理前的数据为：\\n\", data.iloc[:5])\n",
    "print(\"哑变量处理后的数据为：\\n\", pd.get_dummies(data).iloc[:5,:5])"
   ]
  },
  {
   "cell_type": "markdown",
   "metadata": {},
   "source": [
    "# 菜品售价等频法离散化"
   ]
  },
  {
   "cell_type": "code",
   "execution_count": 9,
   "metadata": {},
   "outputs": [
    {
     "name": "stdout",
     "output_type": "stream",
     "text": [
      "菜品数据等频法离散化后各个类别数目分布状况为：\n",
      " (18.0, 32.0]     2107\n",
      "(39.0, 58.0]     2080\n",
      "(32.0, 39.0]     1910\n",
      "(1.0, 18.0]      1891\n",
      "(58.0, 178.0]    1863\n",
      "Name: amounts, dtype: int64\n"
     ]
    }
   ],
   "source": [
    "# 自定义等频法离散化函数\n",
    "\n",
    "def SameRateCut(data, k):\n",
    "    w = data.quantile(np.arange(0, 1 + 1.0 / k, 1.0 / k))\n",
    "    data = pd.cut(data, w)\n",
    "    return data\n",
    "\n",
    "# 菜品售价等频法离散化\n",
    "\n",
    "result = SameRateCut(detail[\"amounts\"], 5).value_counts()\n",
    "print(\"菜品数据等频法离散化后各个类别数目分布状况为：\\n\", result)"
   ]
  },
  {
   "cell_type": "code",
   "execution_count": null,
   "metadata": {},
   "outputs": [],
   "source": []
  }
 ],
 "metadata": {
  "kernelspec": {
   "display_name": "Python 3",
   "language": "python",
   "name": "python3"
  },
  "language_info": {
   "codemirror_mode": {
    "name": "ipython",
    "version": 3
   },
   "file_extension": ".py",
   "mimetype": "text/x-python",
   "name": "python",
   "nbconvert_exporter": "python",
   "pygments_lexer": "ipython3",
   "version": "3.6.5"
  }
 },
 "nbformat": 4,
 "nbformat_minor": 2
}
