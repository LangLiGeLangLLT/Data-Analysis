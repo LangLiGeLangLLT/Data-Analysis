{
 "cells": [
  {
   "cell_type": "markdown",
   "metadata": {},
   "source": [
    "# 聚类算法类别"
   ]
  },
  {
   "cell_type": "code",
   "execution_count": 1,
   "metadata": {},
   "outputs": [],
   "source": [
    "#         算法类别                        包括的主要算法\n",
    "\n",
    "#     划分（分裂）方法             K-Means 算法（K-平均）、K-MEDOIDS 算法（K-中心点）和 CLARANS 算法（基于选择的算法）\n",
    "\n",
    "#     层次分析方法                 BIRCH 算法（平衡迭代规约和聚类）、CURE 算法（代表点聚类）和 CHAMELEON 算法（动态模型）\n",
    "\n",
    "#     基于密度的方法               DBSCAN 算法（基于高密度连接区域）、DENCLUE 算法（密度分布函数）和 OPTICS 算法（对象排序识别）\n",
    "\n",
    "#     基于网格的方法               STING 算法（统计信息网络）、CLIOUE 算法（聚类高维空间）和 WAVE-CLUSTER 算法（小波变换）"
   ]
  },
  {
   "cell_type": "markdown",
   "metadata": {},
   "source": [
    "# cluster 提供的聚类算法及其适用范围"
   ]
  },
  {
   "cell_type": "code",
   "execution_count": 2,
   "metadata": {},
   "outputs": [],
   "source": [
    "#         函数名称                        参数                                适用范围                                 距离度量\n",
    "\n",
    "#         K-MEANS                         簇数                可用于样本数目很大、聚类数目中等的场景                 点之间的距离\n",
    "\n",
    "#     Spectral clustering                 簇数                可用于样本数目中等、聚类数目较小的场景                    图距离\n",
    "\n",
    "#  Ward hierarchical clustering           簇数                可用于样本数目中等、聚类数目较大的场景                 点之间的距离\n",
    "\n",
    "#   Agglomerative clustering     簇数、链接类型、距离         可用于样本数目较大、聚类数目较大的场景            任意成对点线图间的距离\n",
    "\n",
    "#         DBSCAN                半径大小、最低成员数目        可用于样本数目很大、聚类数目中等的场景              最近的点之间的距离\n",
    "\n",
    "#         Birch              分支因子、阈值、可选全局集群     可用于样本数目很大、聚类数目较大的场景               点之间的欧式距离"
   ]
  },
  {
   "cell_type": "markdown",
   "metadata": {},
   "source": [
    "# 估计器两个方法的说明"
   ]
  },
  {
   "cell_type": "code",
   "execution_count": 3,
   "metadata": {},
   "outputs": [],
   "source": [
    "#         方法名称                                       说明\n",
    "\n",
    "#           fit              fit 方法主要用于训练算法。该方法可接收用于有监督学习的训练集及其标签两个参数，也可以接收用于无监督学习的数据\n",
    "\n",
    "#         predict            predict 用于预测有监督学习的测试集标签，亦可以用于划分传入数据的类别"
   ]
  },
  {
   "cell_type": "markdown",
   "metadata": {},
   "source": [
    "# 使用 sklearn 估计器构建 K-Means 聚类模型"
   ]
  },
  {
   "cell_type": "code",
   "execution_count": 4,
   "metadata": {},
   "outputs": [
    {
     "name": "stdout",
     "output_type": "stream",
     "text": [
      "构建的 K-Means 模型为：\n",
      " KMeans(algorithm='auto', copy_x=True, init='k-means++', max_iter=300,\n",
      "    n_clusters=3, n_init=10, n_jobs=1, precompute_distances='auto',\n",
      "    random_state=123, tol=0.0001, verbose=0)\n"
     ]
    }
   ],
   "source": [
    "from sklearn.datasets import load_iris\n",
    "from sklearn.preprocessing import MinMaxScaler\n",
    "from sklearn.cluster import KMeans\n",
    "\n",
    "iris = load_iris()\n",
    "iris_data = iris[\"data\"] # 提取数据集中的特征\n",
    "iris_target = iris[\"target\"] # 提取数据集中的标签\n",
    "iris_names = iris[\"feature_names\"] # 提取特征名\n",
    "\n",
    "scale = MinMaxScaler().fit(iris_data) # 训练规则\n",
    "iris_dataScale = scale.transform(iris_data) # 应用规则\n",
    "kmeans = KMeans(n_clusters = 3, random_state = 123).fit(iris_dataScale) # 构建并训练模型\n",
    "print(\"构建的 K-Means 模型为：\\n\", kmeans)"
   ]
  },
  {
   "cell_type": "code",
   "execution_count": 5,
   "metadata": {},
   "outputs": [
    {
     "name": "stdout",
     "output_type": "stream",
     "text": [
      "花瓣花萼长度宽度全为 1.5 的鸢尾花预测类别为： 0\n"
     ]
    }
   ],
   "source": [
    "result = kmeans.predict([[ 1.5,1.5,1.5,1.5 ]])\n",
    "print(\"花瓣花萼长度宽度全为 1.5 的鸢尾花预测类别为：\", result[0])"
   ]
  },
  {
   "cell_type": "markdown",
   "metadata": {},
   "source": [
    "# 聚类结果可视化"
   ]
  },
  {
   "cell_type": "code",
   "execution_count": 8,
   "metadata": {},
   "outputs": [
    {
     "data": {
      "image/png": "[encoded data removed]",
      "text/plain": [
       "<Figure size 648x432 with 1 Axes>"
      ]
     },
     "metadata": {},
     "output_type": "display_data"
    }
   ],
   "source": [
    "import pandas as pd\n",
    "from sklearn.manifold import TSNE\n",
    "import matplotlib.pyplot as plt\n",
    "\n",
    "# 使用 TSNE 进行数据降维，降成两维\n",
    "\n",
    "tsne = TSNE(n_components = 2, init = \"random\", random_state = 177).fit(iris_data)\n",
    "df = pd.DataFrame(tsne.embedding_) # 将原始数据转换为 DataFrame\n",
    "df[\"labels\"] = kmeans.labels_ # 将聚类结果存储进 df 数据表\n",
    "\n",
    "# 提取不同标签的数据\n",
    "\n",
    "df1 = df[df[\"labels\"] == 0]\n",
    "df2 = df[df[\"labels\"] == 1]\n",
    "df3 = df[df[\"labels\"] == 2]\n",
    "\n",
    "# 绘制图形\n",
    "\n",
    "fig = plt.figure(figsize = (9, 6)) # 设定空白画布，并制定大小\n",
    "\n",
    "# 用不同的颜色表示不同数据\n",
    "\n",
    "plt.plot(df1[0], df1[1], \"bo\", df2[0], df2[1], \"r*\", df3[0], df3[1], \"gD\")\n",
    "plt.savefig(\"../tmp/聚类结果.png\")\n",
    "plt.show() # 显示图片"
   ]
  },
  {
   "cell_type": "markdown",
   "metadata": {},
   "source": [
    "# metrics 模块提供的聚类模型评价指标"
   ]
  },
  {
   "cell_type": "code",
   "execution_count": 9,
   "metadata": {},
   "outputs": [],
   "source": [
    "#         方法名称                      真实值                  最佳值                   sklearn 函数\n",
    "\n",
    "#    ARI 评价法（兰德系数）             需要                     1.0                  adjusted_rand_score\n",
    "\n",
    "#    AMI 评价法（互信息）               需要                     1.0                  adjusted_mutual_info_score\n",
    "\n",
    "#    V-measure评分                      需要                     1.0                  completeness_score\n",
    "\n",
    "#    FMI 评价法                         需要                     1.0                  fowlkes_mallows_score\n",
    "\n",
    "#    轮廓系数评价法                     不需要              畸变程度最大              silhouette_score\n",
    "\n",
    "#    Calinski-Harabasz 指数评价法       不需要                相较最大                calinski_harabaz_score"
   ]
  },
  {
   "cell_type": "markdown",
   "metadata": {},
   "source": [
    "# 使用 FMI 评价法评价 K-Means 聚类模型"
   ]
  },
  {
   "cell_type": "code",
   "execution_count": 11,
   "metadata": {},
   "outputs": [
    {
     "name": "stdout",
     "output_type": "stream",
     "text": [
      "iris 数据聚 2 类 FMI 评价分值为：0.750473\n",
      "iris 数据聚 3 类 FMI 评价分值为：0.820808\n",
      "iris 数据聚 4 类 FMI 评价分值为：0.753970\n",
      "iris 数据聚 5 类 FMI 评价分值为：0.725483\n",
      "iris 数据聚 6 类 FMI 评价分值为：0.600691\n"
     ]
    }
   ],
   "source": [
    "from sklearn.metrics import fowlkes_mallows_score\n",
    "\n",
    "for i in range(2, 7):\n",
    "    # 构建并训练模型\n",
    "    kmeans = KMeans(n_clusters = i, random_state = 123).fit(iris_data)\n",
    "    score = fowlkes_mallows_score(iris_target, kmeans.labels_)\n",
    "    print(\"iris 数据聚 %d 类 FMI 评价分值为：%f\" %(i, score))"
   ]
  },
  {
   "cell_type": "markdown",
   "metadata": {},
   "source": [
    "# 使用轮廓系数评价法评价 K-Means 聚类模型"
   ]
  },
  {
   "cell_type": "code",
   "execution_count": 12,
   "metadata": {},
   "outputs": [
    {
     "data": {
      "image/png": "[encoded data removed]",
      "text/plain": [
       "<Figure size 720x432 with 1 Axes>"
      ]
     },
     "metadata": {},
     "output_type": "display_data"
    }
   ],
   "source": [
    "from sklearn.metrics import silhouette_score\n",
    "import matplotlib.pyplot as plt\n",
    "\n",
    "silhouettteScore = []\n",
    "\n",
    "for i in range(2, 15):\n",
    "    # 构建并训练模型\n",
    "    kmeans = KMeans(n_clusters = i, random_state = 123).fit(iris_data)\n",
    "    score = silhouette_score(iris_data, kmeans.labels_)\n",
    "    silhouettteScore.append(score)\n",
    "\n",
    "plt.figure(figsize = (10, 6))\n",
    "plt.plot(range(2, 15), silhouettteScore, linewidth = 1.5, linestyle = \"-\")\n",
    "plt.show()"
   ]
  },
  {
   "cell_type": "markdown",
   "metadata": {},
   "source": [
    "# 使用 Calinski-Harabasz 指数评价 K-Means 聚类模型"
   ]
  },
  {
   "cell_type": "code",
   "execution_count": 14,
   "metadata": {},
   "outputs": [
    {
     "name": "stdout",
     "output_type": "stream",
     "text": [
      "iris 数据聚 2 类 calinski_harabaz 指数为：513.303843\n",
      "iris 数据聚 3 类 calinski_harabaz 指数为：560.399924\n",
      "iris 数据聚 4 类 calinski_harabaz 指数为：529.120719\n",
      "iris 数据聚 5 类 calinski_harabaz 指数为：494.094382\n",
      "iris 数据聚 6 类 calinski_harabaz 指数为：474.753604\n"
     ]
    }
   ],
   "source": [
    "from sklearn.metrics import calinski_harabaz_score\n",
    "\n",
    "for i in range(2, 7):\n",
    "    # 构建并训练模型\n",
    "    kmeans = KMeans(n_clusters = i,random_state = 123).fit(iris_data)\n",
    "    score = calinski_harabaz_score(iris_data, kmeans.labels_)\n",
    "    print(\"iris 数据聚 %d 类 calinski_harabaz 指数为：%f\" %(i, score))"
   ]
  },
  {
   "cell_type": "markdown",
   "metadata": {},
   "source": [
    "# 对 Seeds 构建 K-Means 聚类模型"
   ]
  },
  {
   "cell_type": "code",
   "execution_count": 16,
   "metadata": {},
   "outputs": [
    {
     "name": "stdout",
     "output_type": "stream",
     "text": [
      "数据集形状为： (210, 8)\n",
      "构建 K-Means 模型为：\n",
      " KMeans(algorithm='auto', copy_x=True, init='k-means++', max_iter=300,\n",
      "    n_clusters=3, n_init=10, n_jobs=1, precompute_distances='auto',\n",
      "    random_state=42, tol=0.0001, verbose=0)\n"
     ]
    }
   ],
   "source": [
    "import pandas as pd\n",
    "from sklearn.preprocessing import StandardScaler\n",
    "from sklearn.cluster import KMeans\n",
    "\n",
    "seeds = pd.read_csv(\"../data/seeds_dataset.txt\", sep = \"\\t\")\n",
    "print(\"数据集形状为：\", seeds.shape)\n",
    "\n",
    "# 处理数据\n",
    "\n",
    "seeds_data = seeds.iloc[:,:7].values\n",
    "seeds_target = seeds.iloc[:,7].values\n",
    "seeds_names = seeds.columns[:7]\n",
    "stdScale = StandardScaler().fit(seeds_data)\n",
    "seeds_dataScale = stdScale.transform(seeds_data)\n",
    "\n",
    "# 构建并训练模型\n",
    "\n",
    "kmeans = KMeans(n_clusters = 3, random_state = 42).fit(seeds_data)\n",
    "print(\"构建 K-Means 模型为：\\n\", kmeans)"
   ]
  },
  {
   "cell_type": "markdown",
   "metadata": {},
   "source": [
    "# 评价使用 Seeds 数据集构建的 K-Means 聚类模型"
   ]
  },
  {
   "cell_type": "code",
   "execution_count": 17,
   "metadata": {},
   "outputs": [
    {
     "name": "stdout",
     "output_type": "stream",
     "text": [
      "seeds 数据聚 2 类 calinski_harabaz 指数为：351.179992\n",
      "seeds 数据聚 3 类 calinski_harabaz 指数为：375.804961\n",
      "seeds 数据聚 4 类 calinski_harabaz 指数为：327.835320\n",
      "seeds 数据聚 5 类 calinski_harabaz 指数为：310.331840\n",
      "seeds 数据聚 6 类 calinski_harabaz 指数为：302.473069\n"
     ]
    }
   ],
   "source": [
    "from sklearn.metrics import calinski_harabaz_score\n",
    "\n",
    "for i in range(2, 7):\n",
    "    # 构建并训练模型\n",
    "    kmeans = KMeans(n_clusters = i, random_state = 123).fit(seeds_data)\n",
    "    score = calinski_harabaz_score(seeds_data, kmeans.labels_)\n",
    "    print(\"seeds 数据聚 %d 类 calinski_harabaz 指数为：%f\" %(i, score))"
   ]
  },
  {
   "cell_type": "markdown",
   "metadata": {},
   "source": [
    "# sklearn 库的常用分类算法"
   ]
  },
  {
   "cell_type": "code",
   "execution_count": 18,
   "metadata": {},
   "outputs": [],
   "source": [
    "#            模块名称                 函数名称                  算法名称\n",
    "\n",
    "#         linear_model           LogisticRegression           逻辑斯蒂回归\n",
    "\n",
    "#             svm                       SVC                    支持向量机\n",
    "\n",
    "#           neighbors            KNeighborsClassifier          K 最近邻分类\n",
    "\n",
    "#          native_bayes              GaussianNB               高斯朴素贝叶斯\n",
    "\n",
    "#            tree              DecisionTreeClassifier           分类决策树\n",
    "\n",
    "#           ensemble           RandomForestClassifier          随机森林分类\n",
    "\n",
    "#           ensemble          GradientBoostingClassifier      梯度提升分类树"
   ]
  },
  {
   "cell_type": "markdown",
   "metadata": {},
   "source": [
    "# 使用 sklearn 估计器构建 SVM 模型"
   ]
  },
  {
   "cell_type": "code",
   "execution_count": 19,
   "metadata": {},
   "outputs": [
    {
     "name": "stdout",
     "output_type": "stream",
     "text": [
      "建立的 SVM 模型为：\n",
      " SVC(C=1.0, cache_size=200, class_weight=None, coef0=0.0,\n",
      "  decision_function_shape='ovr', degree=3, gamma='auto', kernel='rbf',\n",
      "  max_iter=-1, probability=False, random_state=None, shrinking=True,\n",
      "  tol=0.001, verbose=False)\n"
     ]
    }
   ],
   "source": [
    "# 加载所需的函数\n",
    "\n",
    "import numpy as np\n",
    "from sklearn.datasets import load_breast_cancer\n",
    "from sklearn.svm import SVC\n",
    "from sklearn.model_selection import train_test_split\n",
    "from sklearn.preprocessing import StandardScaler\n",
    "\n",
    "cancer = load_breast_cancer()\n",
    "cancer_data = cancer[\"data\"]\n",
    "cancer_target = cancer[\"target\"]\n",
    "cancer_names = cancer[\"feature_names\"]\n",
    "\n",
    "# 将数据划分为训练集、测试集\n",
    "\n",
    "cancer_data_train, cancer_data_test, cancer_target_train, cancer_target_test = \\\n",
    "    train_test_split(cancer_data, cancer_target, test_size = 0.2, random_state = 22)\n",
    "\n",
    "# 数据标准化\n",
    "\n",
    "stdScaler = StandardScaler().fit(cancer_data_train)\n",
    "cancer_trainStd = stdScaler.transform(cancer_data_train)\n",
    "cancer_testStd = stdScaler.transform(cancer_data_test)\n",
    "\n",
    "# 建立 SVM 模型\n",
    "\n",
    "svm = SVC().fit(cancer_trainStd, cancer_target_train)\n",
    "print(\"建立的 SVM 模型为：\\n\", svm)"
   ]
  },
  {
   "cell_type": "code",
   "execution_count": 20,
   "metadata": {},
   "outputs": [
    {
     "name": "stdout",
     "output_type": "stream",
     "text": [
      "预测 20 个结果为：\n",
      " [1 0 0 0 1 1 1 1 1 1 1 1 0 1 1 1 0 0 1 1]\n"
     ]
    }
   ],
   "source": [
    "# 预测训练集结果\n",
    "\n",
    "cancer_target_pred = svm.predict(cancer_testStd)\n",
    "print(\"预测 20 个结果为：\\n\", cancer_target_pred[:20])"
   ]
  },
  {
   "cell_type": "markdown",
   "metadata": {},
   "source": [
    "# 分类结果的混淆矩阵与准确率"
   ]
  },
  {
   "cell_type": "code",
   "execution_count": 21,
   "metadata": {},
   "outputs": [
    {
     "name": "stdout",
     "output_type": "stream",
     "text": [
      "预测对的结果数目为： 111\n",
      "预测错的结果数目为： 3\n",
      "预测结果准确率为： 0.9736842105263158\n"
     ]
    }
   ],
   "source": [
    "# 求出预测和真实一样的数目\n",
    "\n",
    "true = np.sum(cancer_target_pred == cancer_target_test)\n",
    "print(\"预测对的结果数目为：\", true)\n",
    "print(\"预测错的结果数目为：\", cancer_target_test.shape[0] - true)\n",
    "print(\"预测结果准确率为：\", true / cancer_target_test.shape[0])"
   ]
  },
  {
   "cell_type": "markdown",
   "metadata": {},
   "source": [
    "# 分类模型评价方法"
   ]
  },
  {
   "cell_type": "code",
   "execution_count": 22,
   "metadata": {},
   "outputs": [],
   "source": [
    "#            方法名称                  最佳值                   sklearn函数\n",
    "\n",
    "#        Precision(精确率)              1.0                metrics.precision_score\n",
    "\n",
    "#        Recall（召回率）               1.0                metrics.recall_score\n",
    "\n",
    "#            F1 值                      1.0                metrics.f1_score\n",
    "\n",
    "#         Cohen's Kappa 系数            1.0                metrics.cohen_kappa_score\n",
    "\n",
    "#           ROC 曲线                 最靠近 y 轴           metrics.roc_curve"
   ]
  },
  {
   "cell_type": "markdown",
   "metadata": {},
   "source": [
    "# 分类模型常用评价方法"
   ]
  },
  {
   "cell_type": "code",
   "execution_count": 24,
   "metadata": {},
   "outputs": [
    {
     "name": "stdout",
     "output_type": "stream",
     "text": [
      "使用 SVM 预测 breast_cancer 数据的准确率为： 0.9736842105263158\n",
      "使用 SVM 预测 breast_cancer 数据的精确率为： 0.9594594594594594\n",
      "使用 SVM 预测 breast_cancer 数据的召回率为： 1.0\n",
      "使用 SVM 预测 breast_cancer 数据的 F1 值为： 0.9793103448275862\n",
      "使用 SVM 预测 breast_cancer 数据的 Cohen's Kappa 系数为： 0.9432082364662903\n"
     ]
    }
   ],
   "source": [
    "from sklearn.metrics import accuracy_score, precision_score, recall_score, f1_score, cohen_kappa_score\n",
    "\n",
    "print(\"使用 SVM 预测 breast_cancer 数据的准确率为：\", accuracy_score(cancer_target_test, cancer_target_pred))\n",
    "print(\"使用 SVM 预测 breast_cancer 数据的精确率为：\", precision_score(cancer_target_test, cancer_target_pred))\n",
    "print(\"使用 SVM 预测 breast_cancer 数据的召回率为：\", recall_score(cancer_target_test, cancer_target_pred))\n",
    "print(\"使用 SVM 预测 breast_cancer 数据的 F1 值为：\", f1_score(cancer_target_test, cancer_target_pred))\n",
    "print(\"使用 SVM 预测 breast_cancer 数据的 Cohen's Kappa 系数为：\", cohen_kappa_score(cancer_target_test, cancer_target_pred))"
   ]
  },
  {
   "cell_type": "markdown",
   "metadata": {},
   "source": [
    "# 分类模型评价报告"
   ]
  },
  {
   "cell_type": "code",
   "execution_count": 25,
   "metadata": {},
   "outputs": [
    {
     "name": "stdout",
     "output_type": "stream",
     "text": [
      "使用 SVM 预测 iris 数据的分类报告为：\n",
      "              precision    recall  f1-score   support\n",
      "\n",
      "          0       1.00      0.93      0.96        43\n",
      "          1       0.96      1.00      0.98        71\n",
      "\n",
      "avg / total       0.97      0.97      0.97       114\n",
      "\n"
     ]
    }
   ],
   "source": [
    "from sklearn.metrics import classification_report\n",
    "\n",
    "print(\"使用 SVM 预测 iris 数据的分类报告为：\\n\", classification_report(cancer_target_test, cancer_target_pred))"
   ]
  },
  {
   "cell_type": "markdown",
   "metadata": {},
   "source": [
    "# 绘制 ROC 曲线"
   ]
  },
  {
   "cell_type": "code",
   "execution_count": 26,
   "metadata": {},
   "outputs": [
    {
     "data": {
      "image/png": "[encoded data removed]",
      "text/plain": [
       "<Figure size 720x432 with 1 Axes>"
      ]
     },
     "metadata": {},
     "output_type": "display_data"
    }
   ],
   "source": [
    "from sklearn.metrics import roc_curve\n",
    "import matplotlib.pyplot as plt\n",
    "\n",
    "# 求出 ROC 曲线的 x 轴和 y 轴\n",
    "\n",
    "fpr, tpr, thresholds = roc_curve(cancer_target_test, cancer_target_pred)\n",
    "\n",
    "plt.figure(figsize = (10, 6))\n",
    "plt.xlim(0, 1) # 设定 x 轴的范围\n",
    "plt.ylim(0.0, 1.1) # 设定 y 轴的范围\n",
    "plt.xlabel(\"False Postive Rate\")\n",
    "plt.ylabel(\"True Postive Rate\")\n",
    "plt.plot(fpr, tpr, linewidth = 2, linestyle = \"-\", color = \"red\")\n",
    "plt.show()"
   ]
  },
  {
   "cell_type": "markdown",
   "metadata": {},
   "source": [
    "# 鲍鱼年龄预测"
   ]
  },
  {
   "cell_type": "code",
   "execution_count": 27,
   "metadata": {},
   "outputs": [
    {
     "name": "stderr",
     "output_type": "stream",
     "text": [
      "C:\\Program Files (x86)\\Microsoft Visual Studio\\Shared\\Anaconda3_64\\lib\\site-packages\\sklearn\\model_selection\\_split.py:2026: FutureWarning: From version 0.21, test_size will always complement train_size unless both are specified.\n",
      "  FutureWarning)\n"
     ]
    },
    {
     "name": "stdout",
     "output_type": "stream",
     "text": [
      "建立的 SVM 模型为：\n",
      " SVC(C=1.0, cache_size=200, class_weight=None, coef0=0.0,\n",
      "  decision_function_shape='ovr', degree=3, gamma='auto', kernel='rbf',\n",
      "  max_iter=-1, probability=False, random_state=None, shrinking=True,\n",
      "  tol=0.001, verbose=False)\n"
     ]
    }
   ],
   "source": [
    "import pandas as pd\n",
    "from sklearn.svm import SVC\n",
    "from sklearn.metrics import classification_report\n",
    "from sklearn.model_selection import train_test_split\n",
    "from sklearn.preprocessing import StandardScaler\n",
    "\n",
    "abalone = pd.read_csv(\"../data/abalone.data\", sep = \",\")\n",
    "\n",
    "# 将数据和标签拆开\n",
    "\n",
    "abalone_data = abalone.iloc[:,:8]\n",
    "abalone_target = abalone.iloc[:,8]\n",
    "\n",
    "# 连续型特征离散化\n",
    "\n",
    "sex = pd.get_dummies(abalone_data[[\"sex\"]])\n",
    "abalone_data = pd.concat([ abalone_data,sex ], axis = 1)\n",
    "abalone_data.drop(\"sex\", axis = 1, inplace = True)\n",
    "\n",
    "# 划分训练集、测试集\n",
    "\n",
    "abalone_train, abalone_test, abalone_target_train, abalone_target_test = \\\n",
    "    train_test_split(abalone_data, abalone_target, train_size = 0.8, random_state = 42)\n",
    "\n",
    "# 标准化\n",
    "\n",
    "stdScaler = StandardScaler().fit(abalone_train)\n",
    "abalone_std_train = stdScaler.transform(abalone_train)\n",
    "abalone_std_test = stdScaler.transform(abalone_test)\n",
    "\n",
    "# 建模\n",
    "\n",
    "svm_abalone = SVC().fit(abalone_std_train, abalone_target_train)\n",
    "print(\"建立的 SVM 模型为：\\n\", svm_abalone)"
   ]
  },
  {
   "cell_type": "markdown",
   "metadata": {},
   "source": [
    "# 评价构建的 SVM 分类模型"
   ]
  },
  {
   "cell_type": "code",
   "execution_count": 30,
   "metadata": {},
   "outputs": [
    {
     "name": "stdout",
     "output_type": "stream",
     "text": [
      "abalone 数据集的 SVM 分类报告为：\n",
      "              precision    recall  f1-score   support\n",
      "\n",
      "          3       0.00      0.00      0.00         3\n",
      "          4       0.00      0.00      0.00        13\n",
      "          5       0.00      0.00      0.00        32\n",
      "          6       0.00      0.00      0.00        48\n",
      "          7       0.00      0.00      0.00        84\n",
      "          8       0.24      0.54      0.33        99\n",
      "          9       0.21      0.63      0.31       142\n",
      "         10       0.14      0.19      0.16       139\n",
      "         11       0.00      0.00      0.00        93\n",
      "         12       0.00      0.00      0.00        51\n",
      "         13       0.00      0.00      0.00        31\n",
      "         14       0.00      0.00      0.00        26\n",
      "         15       0.00      0.00      0.00        21\n",
      "         16       0.00      0.00      0.00        13\n",
      "         17       0.00      0.00      0.00         8\n",
      "         18       0.00      0.00      0.00        12\n",
      "         19       0.00      0.00      0.00         7\n",
      "         20       0.00      0.00      0.00         4\n",
      "         21       0.00      0.00      0.00         3\n",
      "         22       0.00      0.00      0.00         3\n",
      "         23       0.00      0.00      0.00         4\n",
      "\n",
      "avg / total       0.09      0.20      0.12       836\n",
      "\n"
     ]
    },
    {
     "name": "stderr",
     "output_type": "stream",
     "text": [
      "C:\\Program Files (x86)\\Microsoft Visual Studio\\Shared\\Anaconda3_64\\lib\\site-packages\\sklearn\\metrics\\classification.py:1135: UndefinedMetricWarning: Precision and F-score are ill-defined and being set to 0.0 in labels with no predicted samples.\n",
      "  'precision', 'predicted', average, warn_for)\n"
     ]
    }
   ],
   "source": [
    "from sklearn.preprocessing import StandardScaler\n",
    "from sklearn.decomposition import PCA\n",
    "\n",
    "stdScale = StandardScaler().fit(abalone_test) # 生成规则\n",
    "abalone_testScaler = stdScale.transform(abalone_test) # 将规则应用于测试集\n",
    "\n",
    "pca_model= PCA(n_components = 10).fit(abalone_testScaler) # 生成规则\n",
    "abalone_testPca = pca_model.transform(abalone_testScaler) # 将规则应用于测试集\n",
    "\n",
    "abalone_target_pred = svm_abalone.predict(abalone_testPca)\n",
    "print(\"abalone 数据集的 SVM 分类报告为：\\n\", classification_report(abalone_target_test, abalone_target_pred))"
   ]
  },
  {
   "cell_type": "markdown",
   "metadata": {},
   "source": [
    "# 常用的回归模型"
   ]
  },
  {
   "cell_type": "code",
   "execution_count": 1,
   "metadata": {},
   "outputs": [],
   "source": [
    "#  回归模型名称                    适用条件                                                  算法描述\n",
    "\n",
    "#   线性回归             因变量与自变量是线性关系            对一个或多个自变量和因变量之间的线性关系进行建模，可用最小二乘估计法求解模型系数\n",
    "\n",
    "#  非线性回归            因变量与自变量之间不都是线性关系    对一个或多个自变量和因变量之间的非线性关系进行建模。如果非线性关系可以通过简单的\n",
    "#                                                            函数变换转化成线性关系，则可用线性回归的思想求解；如果不能转化，可用非线性最小二\n",
    "#                                                            乘估计法求解\n",
    "\n",
    "# Logistic 回归          因变量一般有 1 和 0（是与否）两     是广义线性回归模型的特例，利用 Logistics 函数将因变量的取值范围控制在 0~1，表示取\n",
    "#                        种取值                              值为 1 的概率\n",
    "\n",
    "#   岭回归               参与建模的自变量之间具有多重共线性  是一种改进最小二乘估计法的方法\n",
    "\n",
    "#  主成分回归            参与建模的自变量之间具有多重共线性  主成分回归是根据主成分分析的思想提出来的，是对最小二乘估计法的一种改进，它是参数估\n",
    "#                                                            计。可以消除自变量之间的多重共线性"
   ]
  },
  {
   "cell_type": "markdown",
   "metadata": {},
   "source": [
    "# sklearn 库内部的常用回归算法"
   ]
  },
  {
   "cell_type": "code",
   "execution_count": 2,
   "metadata": {},
   "outputs": [],
   "source": [
    "#           模块名称                  函数名称                 算法名称\n",
    "\n",
    "#        linear_model              LinearRegression            线性回归\n",
    "\n",
    "#            svm                        SVR                    支持向量回归\n",
    "\n",
    "#         neighbors               KNeighborsRegressor          最近邻回归\n",
    "\n",
    "#            tree               DecisionTreeRegressor          回归决策树\n",
    "\n",
    "#          ensemble             RandomForestRegressor          随机森林回归\n",
    "\n",
    "#          ensemble            GradientBoostingRegressor       梯度提升回归树"
   ]
  },
  {
   "cell_type": "markdown",
   "metadata": {},
   "source": [
    "# 使用 sklearn 估计器构建线性回归模型"
   ]
  },
  {
   "cell_type": "code",
   "execution_count": 5,
   "metadata": {},
   "outputs": [
    {
     "name": "stdout",
     "output_type": "stream",
     "text": [
      "建立的 Linear Regression 模型为：\n",
      " LinearRegression(copy_X=True, fit_intercept=True, n_jobs=1, normalize=False)\n"
     ]
    }
   ],
   "source": [
    "# 加载所需函数\n",
    "\n",
    "from sklearn.linear_model import LinearRegression\n",
    "from sklearn.datasets import load_boston\n",
    "from sklearn.model_selection import train_test_split\n",
    "\n",
    "# 加载 boston 数据\n",
    "\n",
    "boston = load_boston()\n",
    "X = boston[\"data\"]\n",
    "y = boston[\"target\"]\n",
    "names = boston[\"feature_names\"]\n",
    "\n",
    "# 将数据划分为训练集、测试集\n",
    "\n",
    "X_train, X_test, y_train, y_test = train_test_split(X, y, test_size = 0.2, random_state = 125)\n",
    "\n",
    "# 建立线性回归模型\n",
    "\n",
    "clf = LinearRegression().fit(X_train, y_train)\n",
    "print(\"建立的 Linear Regression 模型为：\\n\", clf)"
   ]
  },
  {
   "cell_type": "code",
   "execution_count": 6,
   "metadata": {},
   "outputs": [
    {
     "name": "stdout",
     "output_type": "stream",
     "text": [
      "预测前 20 个结果为：\n",
      " [21.12953164 19.67578799 22.01735047 24.62046819 14.45164813 23.32325459\n",
      " 16.6468677  14.9175848  33.58466804 17.48328609 25.50385719 36.60215179\n",
      " 25.95309333 28.48503161 19.34928078 20.16966217 25.9788081  18.25959831\n",
      " 16.52754056 17.08448854]\n"
     ]
    }
   ],
   "source": [
    "# 预测训练集结果\n",
    "\n",
    "y_pred = clf.predict(X_test)\n",
    "print(\"预测前 20 个结果为：\\n\", y_pred[:20])"
   ]
  },
  {
   "cell_type": "markdown",
   "metadata": {},
   "source": [
    "# 回归结果可视化"
   ]
  },
  {
   "cell_type": "code",
   "execution_count": 8,
   "metadata": {},
   "outputs": [
    {
     "data": {
      "image/png": "[encoded data removed]",
      "text/plain": [
       "<Figure size 720x432 with 1 Axes>"
      ]
     },
     "metadata": {},
     "output_type": "display_data"
    }
   ],
   "source": [
    "import matplotlib.pyplot as plt\n",
    "from matplotlib import rcParams\n",
    "\n",
    "rcParams[\"font.sans-serif\"] = \"SimHei\"\n",
    "fig = plt.figure(figsize = (10, 6)) # 设定空白画布，并制定大小\n",
    "plt.plot(range(y_test.shape[0]), y_test, color = \"blue\", linewidth = 1.5, linestyle = \"-\")\n",
    "plt.xlim((0, 102))\n",
    "plt.ylim((0, 55))\n",
    "plt.legend([\"真实值\", \"预测值\"])\n",
    "plt.savefig(\"../tmp/聚会归类结果.png\")\n",
    "plt.show() # 显示图片"
   ]
  },
  {
   "cell_type": "markdown",
   "metadata": {},
   "source": [
    "# 回归模型评价指标"
   ]
  },
  {
   "cell_type": "code",
   "execution_count": 9,
   "metadata": {},
   "outputs": [],
   "source": [
    "#         方法名称             最优值                 sklearn 函数\n",
    "\n",
    "#       平均绝对误差            0.0              metrics.mean_absolute_error\n",
    "\n",
    "#       均方误差                0.0              metrics.mean_squared_error\n",
    "\n",
    "#       中值绝对误差            0.0              metrics.median_absolute_error\n",
    "\n",
    "#       可解释方差值            1.0              metrics.explained_variance_score\n",
    "\n",
    "#          R^2值                1.0              metrics.r2_score"
   ]
  },
  {
   "cell_type": "markdown",
   "metadata": {},
   "source": [
    "# 回归模型评价"
   ]
  },
  {
   "cell_type": "code",
   "execution_count": 10,
   "metadata": {},
   "outputs": [
    {
     "name": "stdout",
     "output_type": "stream",
     "text": [
      "Boston 数据线性回归模型的平均绝对误差为： 3.377642697362818\n",
      "Boston 数据线性回归模型的均方误差为： 31.15059667690504\n",
      "Boston 数据线性回归模型的中值绝对误差为： 1.7774213157360652\n",
      "Boston 数据线性回归模型的可解释方差值为： 0.7105949626282904\n",
      "Boston 数据线性回归模型的 R^2 值为： 0.7068954225782409\n"
     ]
    }
   ],
   "source": [
    "from sklearn.metrics import explained_variance_score, mean_absolute_error, mean_squared_error, median_absolute_error, r2_score\n",
    "\n",
    "print(\"Boston 数据线性回归模型的平均绝对误差为：\", mean_absolute_error(y_test, y_pred))\n",
    "print(\"Boston 数据线性回归模型的均方误差为：\", mean_squared_error(y_test, y_pred))\n",
    "print(\"Boston 数据线性回归模型的中值绝对误差为：\", median_absolute_error(y_test, y_pred))\n",
    "print(\"Boston 数据线性回归模型的可解释方差值为：\", explained_variance_score(y_test, y_pred))\n",
    "print(\"Boston 数据线性回归模型的 R^2 值为：\", r2_score(y_test, y_pred))"
   ]
  },
  {
   "cell_type": "markdown",
   "metadata": {},
   "source": [
    "# 使用 sklearn 估计器构建梯度提升回归模型"
   ]
  },
  {
   "cell_type": "code",
   "execution_count": 11,
   "metadata": {},
   "outputs": [
    {
     "name": "stdout",
     "output_type": "stream",
     "text": [
      "建立的梯度提升回归模型为：\n",
      " GradientBoostingRegressor(alpha=0.9, criterion='friedman_mse', init=None,\n",
      "             learning_rate=0.1, loss='ls', max_depth=3, max_features=None,\n",
      "             max_leaf_nodes=None, min_impurity_decrease=0.0,\n",
      "             min_impurity_split=None, min_samples_leaf=1,\n",
      "             min_samples_split=2, min_weight_fraction_leaf=0.0,\n",
      "             n_estimators=100, presort='auto', random_state=None,\n",
      "             subsample=1.0, verbose=0, warm_start=False)\n"
     ]
    }
   ],
   "source": [
    "import pandas as pd\n",
    "from sklearn.ensemble import GradientBoostingRegressor\n",
    "from sklearn.model_selection import train_test_split\n",
    "\n",
    "house = pd.read_csv(\"../data/cal_housing.data\", sep = \",\")\n",
    "house_data = house.iloc[:,:-1]\n",
    "house_target = house.iloc[:,-1]\n",
    "house_names = [ \"longitude\",\"latitude\",\"housingMedianAge\",\"totalRooms\",\"totalBedrooms\",\"population\",\"households\",\"medianIncome\" ]\n",
    "\n",
    "house_train, house_test, house_target_train, house_target_test = \\\n",
    "    train_test_split(house_data, house_target, test_size = 0.2, random_state = 42)\n",
    "GBR_house = GradientBoostingRegressor().fit(house_train, house_target_train)\n",
    "print(\"建立的梯度提升回归模型为：\\n\", GBR_house)"
   ]
  },
  {
   "cell_type": "markdown",
   "metadata": {},
   "source": [
    "# 评价构建梯度提升回归模型"
   ]
  },
  {
   "cell_type": "code",
   "execution_count": 12,
   "metadata": {},
   "outputs": [
    {
     "name": "stdout",
     "output_type": "stream",
     "text": [
      "california_housing 数据梯度提升回归树模型的平均绝对误差为： 38055.93823652785\n",
      "california_housing 数据梯度提升回归树模型的均方误差为： 3103226572.3632507\n",
      "california_housing 数据梯度提升回归树模型的中值绝对误差为： 26179.47844569836\n",
      "california_housing 数据梯度提升回归树模型的可解释方差值为： 0.7618956024086643\n",
      "california_housing 数据梯度提升回归树模型的 R^2 值为： 0.7618478529166886\n"
     ]
    }
   ],
   "source": [
    "house_target_pred = GBR_house.predict(house_test)\n",
    "\n",
    "from sklearn.metrics import explained_variance_score, mean_absolute_error, mean_squared_error, median_absolute_error, r2_score\n",
    "\n",
    "print(\"california_housing 数据梯度提升回归树模型的平均绝对误差为：\", mean_absolute_error(house_target_test, house_target_pred))\n",
    "print(\"california_housing 数据梯度提升回归树模型的均方误差为：\", mean_squared_error(house_target_test, house_target_pred))\n",
    "print(\"california_housing 数据梯度提升回归树模型的中值绝对误差为：\", median_absolute_error(house_target_test, house_target_pred))\n",
    "print(\"california_housing 数据梯度提升回归树模型的可解释方差值为：\", explained_variance_score(house_target_test, house_target_pred))\n",
    "print(\"california_housing 数据梯度提升回归树模型的 R^2 值为：\", r2_score(house_target_test, house_target_pred))"
   ]
  },
  {
   "cell_type": "code",
   "execution_count": null,
   "metadata": {},
   "outputs": [],
   "source": []
  }
 ],
 "metadata": {
  "kernelspec": {
   "display_name": "Python 3",
   "language": "python",
   "name": "python3"
  },
  "language_info": {
   "codemirror_mode": {
    "name": "ipython",
    "version": 3
   },
   "file_extension": ".py",
   "mimetype": "text/x-python",
   "name": "python",
   "nbconvert_exporter": "python",
   "pygments_lexer": "ipython3",
   "version": "3.6.5"
  }
 },
 "nbformat": 4,
 "nbformat_minor": 2
}
