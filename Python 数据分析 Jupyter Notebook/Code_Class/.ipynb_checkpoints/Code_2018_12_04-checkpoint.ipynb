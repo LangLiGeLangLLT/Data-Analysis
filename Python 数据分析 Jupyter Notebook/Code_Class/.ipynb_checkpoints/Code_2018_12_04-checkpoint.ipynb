{
 "cells": [
  {
   "cell_type": "code",
   "execution_count": 5,
   "metadata": {},
   "outputs": [
    {
     "name": "stdout",
     "output_type": "stream",
     "text": [
      "[1]\n"
     ]
    }
   ],
   "source": [
    "from sklearn import tree # 决策树\n",
    "\n",
    "# features = [ [140,\"smooth\"],[130,\"smooth\"],[150,\"bumpy\"],[170,\"bumoy\"] ]\n",
    "\n",
    "features = [ [140,1],[130,1],[150,0],[170,0] ] # 特征数据\n",
    "\n",
    "# labels = [ \"apple\",\"apple\",\"orange\",\"orange\" ]\n",
    "\n",
    "labels = [ 0,0,1,1 ] # 标签数据\n",
    "\n",
    "clf = tree.DecisionTreeClassifier() # 决策树分类器\n",
    "clf = clf.fit(features, labels) # fit 训练分类器\n",
    "print(clf.predict([[150,0]])) # 拿训练好的分类器对新数据进行预测"
   ]
  }
 ],
 "metadata": {
  "kernelspec": {
   "display_name": "Python 3",
   "language": "python",
   "name": "python3"
  },
  "language_info": {
   "codemirror_mode": {
    "name": "ipython",
    "version": 3
   },
   "file_extension": ".py",
   "mimetype": "text/x-python",
   "name": "python",
   "nbconvert_exporter": "python",
   "pygments_lexer": "ipython3",
   "version": "3.6.5"
  }
 },
 "nbformat": 4,
 "nbformat_minor": 2
}
